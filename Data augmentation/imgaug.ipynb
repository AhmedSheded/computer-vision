{
 "cells": [
  {
   "cell_type": "code",
   "execution_count": 1,
   "metadata": {
    "collapsed": true
   },
   "outputs": [],
   "source": [
    "import imgaug.augmenters as iaa\n",
    "import cv2 as cv\n",
    "import glob\n",
    "import os"
   ]
  },
  {
   "cell_type": "code",
   "execution_count": 2,
   "outputs": [],
   "source": [
    "os.chdir('../data/augmentation')"
   ],
   "metadata": {
    "collapsed": false
   }
  },
  {
   "cell_type": "code",
   "execution_count": 3,
   "outputs": [],
   "source": [
    "imges = []\n",
    "\n",
    "imgs_paths = glob.glob('*.*')\n",
    "for img_path in imgs_paths:\n",
    "    img = cv.imread(img_path)\n",
    "    imges.append(img)"
   ],
   "metadata": {
    "collapsed": false
   }
  },
  {
   "cell_type": "markdown",
   "source": [
    "### augment"
   ],
   "metadata": {
    "collapsed": false
   }
  },
  {
   "cell_type": "code",
   "execution_count": 4,
   "outputs": [],
   "source": [
    "augmentaion = iaa.Sequential([\n",
    "    # iaa.Fliplr(0.7), # horizontal flip\n",
    "    # iaa.Flipud(1), # virtical flip\n",
    "    #affine move imge to x and y axis\n",
    "    iaa.Affine(translate_percent={'x': (-0.2, 0.2), 'y': (-0.2, 0.2)})\n",
    "])"
   ],
   "metadata": {
    "collapsed": false
   }
  },
  {
   "cell_type": "code",
   "execution_count": 8,
   "outputs": [],
   "source": [
    "augmented_images = augmentaion(images=imges)\n",
    "dir = 'affine'\n",
    "for i,img in enumerate(augmented_images):\n",
    "    if not os.path.exists(dir):\n",
    "        os.mkdir(dir)\n",
    "    cv.imwrite(os.path.join(dir,str(i)+'.jpg'), img)"
   ],
   "metadata": {
    "collapsed": false
   }
  },
  {
   "cell_type": "code",
   "execution_count": null,
   "outputs": [],
   "source": [],
   "metadata": {
    "collapsed": false
   }
  }
 ],
 "metadata": {
  "kernelspec": {
   "display_name": "Python 3",
   "language": "python",
   "name": "python3"
  },
  "language_info": {
   "codemirror_mode": {
    "name": "ipython",
    "version": 2
   },
   "file_extension": ".py",
   "mimetype": "text/x-python",
   "name": "python",
   "nbconvert_exporter": "python",
   "pygments_lexer": "ipython2",
   "version": "2.7.6"
  }
 },
 "nbformat": 4,
 "nbformat_minor": 0
}
