{
 "cells": [
  {
   "cell_type": "code",
   "execution_count": 1,
   "metadata": {
    "collapsed": true
   },
   "outputs": [],
   "source": [
    "import cv2 as cv"
   ]
  },
  {
   "cell_type": "code",
   "execution_count": 2,
   "outputs": [],
   "source": [
    "BLUR_RADIUS = 21\n",
    "erode_kernel = cv.getStructuringElement(cv.MORPH_ELLIPSE, (5, 5))\n",
    "dilate_kernel = cv.getStructuringElement(cv.MORPH_ELLIPSE, (9, 9))"
   ],
   "metadata": {
    "collapsed": false
   }
  },
  {
   "cell_type": "code",
   "execution_count": null,
   "outputs": [],
   "source": [
    "cap = cv.VideoCapture(0)\n",
    "\n",
    "# Capture several frames to allow the camera's autoexposure to adjust.\n",
    "for _ in range(10):\n",
    "    ret, frame = cap.read()\n",
    "    if not ret:\n",
    "        exit(1)\n",
    "    gray_background = cv.cvtColor(frame, cv.COLOR_BGR2GRAY)\n",
    "    gray_background = cv.GaussianBlur(gray_background, (BLUR_RADIUS, BLUR_RADIUS), 0)\n",
    "\n",
    "ret, frame = cap.read()\n",
    "\n",
    "while ret:\n",
    "    gray_frame = cv.cvtColor(frame, cv.COLOR_BGR2GRAY)\n",
    "    gray_frame = cv.GaussianBlur(gray_frame, (BLUR_RADIUS, BLUR_RADIUS), 0)\n",
    "\n",
    "    diff = cv.absdiff(gray_background, gray_frame)\n",
    "    _, thresh = cv.threshold(diff, 40, 255, cv.THRESH_BINARY)\n",
    "    cv.erode(thresh, erode_kernel, thresh, iterations=2)\n",
    "    cv.dilate(thresh, dilate_kernel, thresh, iterations=2)\n",
    "\n",
    "    contours, hier = cv.findContours(thresh, cv.RETR_EXTERNAL, cv.CHAIN_APPROX_SIMPLE)\n",
    "    for c in contours:\n",
    "        if cv.contourArea(c) > 4000:\n",
    "            x, y, w, h = cv.boundingRect(c)\n",
    "            cv.rectangle(frame, (x, y), (x+w, y+h), (255, 255, 0), 2)\n",
    "\n",
    "    cv.imshow('diff', diff)\n",
    "    cv.imshow('thresh', thresh)\n",
    "    cv.imshow('detection', frame)\n",
    "\n",
    "    k = cv.waitKey(1)\n",
    "    if k == 27: # Escape\n",
    "        break\n",
    "cap.release()\n",
    "cv.destroyAllWindows()"
   ],
   "metadata": {
    "collapsed": false,
    "pycharm": {
     "is_executing": true
    }
   }
  },
  {
   "cell_type": "code",
   "execution_count": null,
   "outputs": [],
   "source": [],
   "metadata": {
    "collapsed": false
   }
  }
 ],
 "metadata": {
  "kernelspec": {
   "display_name": "Python 3",
   "language": "python",
   "name": "python3"
  },
  "language_info": {
   "codemirror_mode": {
    "name": "ipython",
    "version": 2
   },
   "file_extension": ".py",
   "mimetype": "text/x-python",
   "name": "python",
   "nbconvert_exporter": "python",
   "pygments_lexer": "ipython2",
   "version": "2.7.6"
  }
 },
 "nbformat": 4,
 "nbformat_minor": 0
}
