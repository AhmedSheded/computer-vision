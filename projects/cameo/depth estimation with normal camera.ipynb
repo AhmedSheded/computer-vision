{
 "cells": [
  {
   "cell_type": "code",
   "execution_count": 1,
   "metadata": {
    "collapsed": true
   },
   "outputs": [],
   "source": [
    "import cv2 as cv\n",
    "import numpy as np\n",
    "import os"
   ]
  },
  {
   "cell_type": "code",
   "execution_count": 2,
   "outputs": [],
   "source": [
    "os.chdir('../../data')"
   ],
   "metadata": {
    "collapsed": false
   }
  },
  {
   "cell_type": "code",
   "execution_count": 3,
   "outputs": [],
   "source": [
    "minDisparity = 16\n",
    "numDisparities = 192- minDisparity\n",
    "blockSize = 5\n",
    "uniquenessRatio = 1\n",
    "speckleWindowSize = 3\n",
    "speckleRange = 3\n",
    "disp12MaxDiff = 200\n",
    "p1 = 600\n",
    "p2 = 2400"
   ],
   "metadata": {
    "collapsed": false
   }
  },
  {
   "cell_type": "code",
   "execution_count": 4,
   "outputs": [],
   "source": [
    "stereo = cv.StereoSGBM_create(\n",
    "    minDisparity = minDisparity,\n",
    "    numDisparities = numDisparities,\n",
    "    blockSize = blockSize,\n",
    "    uniquenessRatio = uniquenessRatio,\n",
    "    speckleRange = speckleRange,\n",
    "    speckleWindowSize = speckleWindowSize,\n",
    "    disp12MaxDiff = disp12MaxDiff,\n",
    "    P1 = p1,\n",
    "    P2 = p2\n",
    ")"
   ],
   "metadata": {
    "collapsed": false
   }
  },
  {
   "cell_type": "code",
   "execution_count": 5,
   "outputs": [],
   "source": [
    "imgL = cv.resize(cv.imread('imgl.jpg'), (1000, 600))\n",
    "imgR = cv.resize(cv.imread('imgr.jpg'), (1000, 600))"
   ],
   "metadata": {
    "collapsed": false
   }
  },
  {
   "cell_type": "code",
   "execution_count": 6,
   "outputs": [],
   "source": [
    "def update(sliderValue = 0):\n",
    "    stereo.setBlockSize(cv.getTrackbarPos('blockSize', 'Disparity'))\n",
    "    stereo.setUniquenessRatio(cv.getTrackbarPos('uniquenessRatio', 'Disparity'))\n",
    "    stereo.setSpeckleWindowSize(cv.getTrackbarPos('speckleWindowSize', 'Disparity'))\n",
    "    stereo.setSpeckleRange(cv.getTrackbarPos('speckleRange', 'Disparity'))\n",
    "    stereo.setDisp12MaxDiff(cv.getTrackbarPos('disp12MaxDiff', 'Disparity'))\n",
    "\n",
    "    disparity = stereo.compute(imgL, imgR).astype(np.float32)/16.0\n",
    "\n",
    "    cv.imshow('left', imgL)\n",
    "    cv.imshow('right', imgR)\n",
    "    cv.imshow('Disparity', (disparity-minDisparity) / numDisparities)"
   ],
   "metadata": {
    "collapsed": false
   }
  },
  {
   "cell_type": "code",
   "execution_count": null,
   "outputs": [],
   "source": [
    "cv.namedWindow('Disparity')\n",
    "cv.createTrackbar('blockSize', 'Disparity', blockSize, 21, update)\n",
    "cv.createTrackbar('uniquenessRatio', 'Disparity', uniquenessRatio, 50, update)\n",
    "cv.createTrackbar('speckleWindowSize', 'Disparity', speckleWindowSize, 200, update)\n",
    "cv.createTrackbar('speckleRange', 'Disparity', speckleRange, 50, update)\n",
    "cv.createTrackbar('disp12MaxDiff', 'Disparity', disp12MaxDiff, 250, update)\n",
    "update()\n",
    "cv.waitKey(0)\n",
    "cv.destroyAllWindows()"
   ],
   "metadata": {
    "collapsed": false,
    "pycharm": {
     "is_executing": true
    }
   }
  },
  {
   "cell_type": "code",
   "execution_count": 7,
   "outputs": [],
   "source": [],
   "metadata": {
    "collapsed": false
   }
  }
 ],
 "metadata": {
  "kernelspec": {
   "display_name": "Python 3",
   "language": "python",
   "name": "python3"
  },
  "language_info": {
   "codemirror_mode": {
    "name": "ipython",
    "version": 2
   },
   "file_extension": ".py",
   "mimetype": "text/x-python",
   "name": "python",
   "nbconvert_exporter": "python",
   "pygments_lexer": "ipython2",
   "version": "2.7.6"
  }
 },
 "nbformat": 4,
 "nbformat_minor": 0
}
