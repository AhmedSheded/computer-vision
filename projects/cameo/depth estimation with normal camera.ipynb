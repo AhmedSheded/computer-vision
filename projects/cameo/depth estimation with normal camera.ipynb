{
 "cells": [
  {
   "cell_type": "code",
   "execution_count": 3,
   "metadata": {
    "collapsed": true
   },
   "outputs": [],
   "source": [
    "import cv2 as cv\n",
    "import numpy as np\n",
    "import os"
   ]
  },
  {
   "cell_type": "code",
   "execution_count": 2,
   "outputs": [],
   "source": [
    "os.chdir('../../data')"
   ],
   "metadata": {
    "collapsed": false
   }
  },
  {
   "cell_type": "code",
   "execution_count": 5,
   "outputs": [],
   "source": [
    "minDisparity = 16\n",
    "numDisparities = 192- minDisparity\n",
    "blockSize = 5\n",
    "uniquenessRatio = 1\n",
    "speckleWindowSize = 3\n",
    "speckleRange = 3\n",
    "disp12MaxDiff = 200\n",
    "p1 = 600\n",
    "p2 = 2400"
   ],
   "metadata": {
    "collapsed": false
   }
  },
  {
   "cell_type": "code",
   "execution_count": 7,
   "outputs": [],
   "source": [
    "stereo = cv.StereoSGBM_create(\n",
    "    minDisparity = minDisparity,\n",
    "    numDisparities = numDisparities,\n",
    "    blockSize = blockSize,\n",
    "    uniquenessRatio = uniquenessRatio,\n",
    "    speckleRange = speckleRange,\n",
    "    speckleWindowSize = speckleWindowSize,\n",
    "    disp12MaxDiff = disp12MaxDiff,\n",
    "    P1 = p1,\n",
    "    P2 = p2\n",
    ")"
   ],
   "metadata": {
    "collapsed": false
   }
  },
  {
   "cell_type": "code",
   "execution_count": null,
   "outputs": [],
   "source": [
    "imgL = cv.imread('imgl.jpg')\n",
    "imgR = cv.imread('imgr.jpg')"
   ],
   "metadata": {
    "collapsed": false
   }
  }
 ],
 "metadata": {
  "kernelspec": {
   "display_name": "Python 3",
   "language": "python",
   "name": "python3"
  },
  "language_info": {
   "codemirror_mode": {
    "name": "ipython",
    "version": 2
   },
   "file_extension": ".py",
   "mimetype": "text/x-python",
   "name": "python",
   "nbconvert_exporter": "python",
   "pygments_lexer": "ipython2",
   "version": "2.7.6"
  }
 },
 "nbformat": 4,
 "nbformat_minor": 0
}
