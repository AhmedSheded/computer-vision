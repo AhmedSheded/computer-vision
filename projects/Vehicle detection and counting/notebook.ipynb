{
 "cells": [
  {
   "cell_type": "code",
   "execution_count": 1,
   "metadata": {
    "collapsed": true
   },
   "outputs": [],
   "source": [
    "import cv2 as cv\n",
    "import numpy as np\n",
    "from time import sleep\n",
    "import os\n",
    "os.chdir('../../data')"
   ]
  },
  {
   "cell_type": "code",
   "execution_count": 2,
   "outputs": [],
   "source": [
    "y1 = 600\n",
    "offset = 5\n",
    "width = 50\n",
    "height = 50\n",
    "detect = []\n",
    "cars = 0\n",
    "capWidth = 1080\n",
    "capHeight = 720\n",
    "def get_center(x, y, w, h):\n",
    "    x1 = int(w/2)\n",
    "    y1 = int(h/2)\n",
    "    cx = x+x1\n",
    "    cy = y+y1\n",
    "    return cx, cy"
   ],
   "metadata": {
    "collapsed": false
   }
  },
  {
   "cell_type": "code",
   "execution_count": null,
   "outputs": [],
   "source": [
    "cap = cv.VideoCapture('road2.mp4')\n",
    "BGS = cv.createBackgroundSubtractorMOG2(history=40, varThreshold=40, detectShadows=False)\n",
    "forcc = cv.VideoWriter_fourcc(*'mp4v')\n",
    "writer = cv.VideoWriter('cars.mp4', forcc, 30, (capWidth, capHeight))\n",
    "\n",
    "while cap.isOpened():\n",
    "    rate, frame = cap.read()\n",
    "    if rate:\n",
    "        frame = cv.resize(frame, (capWidth, capHeight))\n",
    "        grayFrame = cv.cvtColor(frame, cv.COLOR_BGR2GRAY)\n",
    "        blur = cv.GaussianBlur(grayFrame, (3, 3), 5)\n",
    "        img_sub = BGS.apply(blur)\n",
    "        dilat = cv.dilate(img_sub, np.ones((7, 7)))\n",
    "\n",
    "        contur, h = cv.findContours(dilat, cv.RETR_TREE, cv.CHAIN_APPROX_SIMPLE)\n",
    "\n",
    "        cv.line(frame, (20, y1), (1050, y1), (177, 130, 40), 3)\n",
    "\n",
    "        for i, c in enumerate(contur):\n",
    "            x, y, w, h = cv.boundingRect(c)\n",
    "\n",
    "            if w >= width and h>= height:\n",
    "                cv.rectangle(frame, (x, y), (x+w, y+h), (0, 255, 0), 2)\n",
    "                center = get_center(x, y, w, h)\n",
    "                detect.append(center)\n",
    "                cv.circle(frame, center, 4, (0, 0, 255), -1)\n",
    "\n",
    "                for x, y in detect:\n",
    "                    if y < (y1+offset) and y > (y1-offset):\n",
    "                        cars+=1\n",
    "                        cv.line(frame, (20, y1), (1050, y1), (0, 127, 255), 3)\n",
    "                        detect.remove((x, y))\n",
    "                        # print('Number of cars detected : '+str(cars))\n",
    "\n",
    "        cv.putText(frame, 'NUMBER OF VEHICLE : '+str(cars), (150, 70), cv.FONT_HERSHEY_SIMPLEX,2 , (255, 0, 255), 3)\n",
    "        writer.write(frame)\n",
    "        # cv.imshow('imag_sub', dilat)\n",
    "        cv.imshow('frame', frame)\n",
    "        k = cv.waitKey(40)\n",
    "        if k == 27:\n",
    "            break\n",
    "    else:\n",
    "        break\n",
    "writer.release()\n",
    "cap.release()\n",
    "cv.destroyAllWindows()"
   ],
   "metadata": {
    "collapsed": false,
    "pycharm": {
     "is_executing": true
    }
   }
  },
  {
   "cell_type": "code",
   "execution_count": 3,
   "outputs": [],
   "source": [],
   "metadata": {
    "collapsed": false
   }
  }
 ],
 "metadata": {
  "kernelspec": {
   "display_name": "Python 3",
   "language": "python",
   "name": "python3"
  },
  "language_info": {
   "codemirror_mode": {
    "name": "ipython",
    "version": 2
   },
   "file_extension": ".py",
   "mimetype": "text/x-python",
   "name": "python",
   "nbconvert_exporter": "python",
   "pygments_lexer": "ipython2",
   "version": "2.7.6"
  }
 },
 "nbformat": 4,
 "nbformat_minor": 0
}
