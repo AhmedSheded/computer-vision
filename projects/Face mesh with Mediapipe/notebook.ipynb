{
 "cells": [
  {
   "cell_type": "code",
   "execution_count": 1,
   "metadata": {
    "collapsed": true
   },
   "outputs": [],
   "source": [
    "import cv2 as cv\n",
    "import mediapipe as mp\n",
    "import numpy as np\n",
    "import os\n",
    "os.chdir('../../data')"
   ]
  },
  {
   "cell_type": "code",
   "execution_count": 2,
   "outputs": [],
   "source": [
    "#Face Mesh\n",
    "mp_face_mesh = mp.solutions.face_mesh.FaceMesh()"
   ],
   "metadata": {
    "collapsed": false
   }
  },
  {
   "cell_type": "code",
   "execution_count": null,
   "outputs": [],
   "source": [
    "cap = cv.VideoCapture(0)\n",
    "address = 'http://192.168.1.7:8080/video'\n",
    "cap.open(address)\n",
    "width = int(cap.get(cv.CAP_PROP_FRAME_WIDTH))\n",
    "height = int(cap.get(cv.CAP_PROP_FRAME_HEIGHT))\n",
    "forcc = cv.VideoWriter_fourcc(*'MP4V')\n",
    "writer = cv.VideoWriter('face mesh.mp4', forcc, 30, (width, height))\n",
    "while cap.isOpened():\n",
    "    ret, frame = cap.read()\n",
    "    black = np.zeros_like(frame)\n",
    "    if ret:\n",
    "        rgb_frame = cv.cvtColor(frame, cv.COLOR_BGR2RGB)\n",
    "        results = mp_face_mesh.process(rgb_frame)\n",
    "\n",
    "        height = int(cap.get(cv.CAP_PROP_FRAME_HEIGHT))\n",
    "        width = int(cap.get(cv.CAP_PROP_FRAME_WIDTH))\n",
    "\n",
    "        for landmark in results.multi_face_landmarks:\n",
    "            for i in range(468):\n",
    "                pt1 = landmark.landmark[i]\n",
    "                x = int(pt1.x * width)\n",
    "                y = int(pt1.y * height)\n",
    "                cv.circle(frame, (x, y), 3, (100, 100, 0), -1)\n",
    "                cv.circle(black, (x, y), 2, (100, 100, 0), -1)\n",
    "    writer.write(frame)\n",
    "    # cv.imshow('black', black)\n",
    "    cv.imshow('frame', frame)\n",
    "    if cv.waitKey(1) == 27:\n",
    "        break\n",
    "cap.release()\n",
    "writer.release()\n",
    "cv.destroyAllWindows()"
   ],
   "metadata": {
    "collapsed": false,
    "pycharm": {
     "is_executing": true
    }
   }
  },
  {
   "cell_type": "code",
   "execution_count": 3,
   "outputs": [],
   "source": [],
   "metadata": {
    "collapsed": false
   }
  }
 ],
 "metadata": {
  "kernelspec": {
   "display_name": "Python 3",
   "language": "python",
   "name": "python3"
  },
  "language_info": {
   "codemirror_mode": {
    "name": "ipython",
    "version": 2
   },
   "file_extension": ".py",
   "mimetype": "text/x-python",
   "name": "python",
   "nbconvert_exporter": "python",
   "pygments_lexer": "ipython2",
   "version": "2.7.6"
  }
 },
 "nbformat": 4,
 "nbformat_minor": 0
}
