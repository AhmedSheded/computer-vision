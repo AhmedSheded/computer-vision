{
 "cells": [
  {
   "cell_type": "code",
   "execution_count": 1,
   "metadata": {
    "collapsed": true
   },
   "outputs": [],
   "source": [
    "import os"
   ]
  },
  {
   "cell_type": "code",
   "execution_count": 2,
   "outputs": [],
   "source": [
    "os.chdir('../../data')"
   ],
   "metadata": {
    "collapsed": false
   }
  },
  {
   "cell_type": "code",
   "execution_count": 3,
   "outputs": [
    {
     "name": "stdout",
     "output_type": "stream",
     "text": [
      "Cloning into 'yolov7'...\r\n",
      "remote: Enumerating objects: 994, done.\u001B[K\r\n",
      "remote: Counting objects: 100% (3/3), done.\u001B[K\r\n",
      "remote: Compressing objects: 100% (3/3), done.\u001B[K\r\n",
      "remote: Total 994 (delta 0), reused 1 (delta 0), pack-reused 991\u001B[K objects:  25% (256/994), 3.15 MiB | 1.55 MiB/sReceiving objects:  25% (256/994), 7.68 MiB | 1.90 MiB/sReceiving objects:  26% (261/994), 9.51 MiB | 1.98 MiB/sReceiving objects:  26% (262/994), 14.79 MiB | 2.33 MiB/sReceiving objects:  26% (264/994), 19.89 MiB | 2.69 MiB/sReceiving objects:  26% (266/994), 25.70 MiB | 2.63 MiB/sReceiving objects:  26% (268/994), 29.50 MiB | 2.10 MiB/sReceiving objects:  27% (270/994), 30.89 MiB | 2.04 MiB/sReceiving objects:  28% (279/994), 35.53 MiB | 2.44 MiB/sReceiving objects:  35% (348/994), 35.53 MiB | 2.44 MiB/sReceiving objects:  39% (388/994), 35.53 MiB | 2.44 MiB/sReceiving objects:  55% (547/994), 36.82 MiB | 2.46 MiB/sReceiving objects:  63% (627/994), 36.82 MiB | 2.46 MiB/sReceiving objects:  65% (647/994), 37.45 MiB | 2.39 MiB/sReceiving objects:  65% (648/994), 43.79 MiB | 2.85 MiB/sReceiving objects:  65% (648/994), 50.56 MiB | 2.97 MiB/sReceiving objects:  69% (686/994), 52.46 MiB | 3.25 MiB/sReceiving objects:  77% (766/994), 52.46 MiB | 3.25 MiB/sReceiving objects:  79% (786/994), 52.46 MiB | 3.25 MiB/sReceiving objects:  85% (847/994), 54.69 MiB | 2.59 MiB/sReceiving objects:  85% (847/994), 58.66 MiB | 2.05 MiB/sReceiving objects:  85% (847/994), 61.84 MiB | 1.61 MiB/sReceiving objects:  85% (847/994), 64.77 MiB | 1.66 MiB/sReceiving objects:  86% (855/994), 67.30 MiB | 1.72 MiB/sReceiving objects:  91% (911/994), 68.93 MiB | 1.92 MiB/s\r\n",
      "Receiving objects: 100% (994/994), 70.84 MiB | 2.30 MiB/s, done.\r\n",
      "Resolving deltas: 100% (490/490), done.\r\n"
     ]
    }
   ],
   "source": [
    "!git clone https://github.com/WongKinYiu/yolov7.git"
   ],
   "metadata": {
    "collapsed": false
   }
  },
  {
   "cell_type": "code",
   "execution_count": 3,
   "outputs": [],
   "source": [
    "os.chdir('yolov7')"
   ],
   "metadata": {
    "collapsed": false
   }
  },
  {
   "cell_type": "code",
   "execution_count": 10,
   "outputs": [
    {
     "name": "stdout",
     "output_type": "stream",
     "text": [
      "cfg\t   export.py   inference   README.md\t     tools\t   yolov7.pt\r\n",
      "data\t   figure      LICENSE.md  requirements.txt  train_aux.py\r\n",
      "deploy\t   horse.jpg   models\t   scripts\t     train.py\r\n",
      "detect.py  hubconf.py  paper\t   test.py\t     utils\r\n"
     ]
    }
   ],
   "source": [
    "!ls"
   ],
   "metadata": {
    "collapsed": false
   }
  },
  {
   "cell_type": "code",
   "execution_count": 5,
   "outputs": [
    {
     "name": "stdout",
     "output_type": "stream",
     "text": [
      "Namespace(weights=['yolov7.pt'], source='horse.jpg', img_size=640, conf_thres=0.5, iou_thres=0.45, device='', view_img=False, save_txt=False, save_conf=False, nosave=False, classes=None, agnostic_nms=False, augment=False, update=False, project='runs/detect', name='exp', exist_ok=False, no_trace=False)\r\n",
      "/home/sheded/.local/lib/python3.10/site-packages/torch/cuda/__init__.py:83: UserWarning: CUDA initialization: The NVIDIA driver on your system is too old (found version 9010). Please update your GPU driver by downloading and installing a new version from the URL: http://www.nvidia.com/Download/index.aspx Alternatively, go to: https://pytorch.org to install a PyTorch version that has been compiled with your version of the CUDA driver. (Triggered internally at  ../c10/cuda/CUDAFunctions.cpp:109.)\r\n",
      "  return torch._C._cuda_getDeviceCount() > 0\r\n",
      "YOLOR 🚀 2022-10-9 torch 1.12.1+cu102 CPU\r\n",
      "\r\n",
      "Fusing layers... \r\n",
      "RepConv.fuse_repvgg_block\r\n",
      "RepConv.fuse_repvgg_block\r\n",
      "RepConv.fuse_repvgg_block\r\n",
      "[W NNPACK.cpp:51] Could not initialize NNPACK! Reason: Unsupported hardware.\r\n",
      "Model Summary: 306 layers, 36905341 parameters, 6652669 gradients\r\n",
      " Convert model to Traced-model... \r\n",
      " traced_script_module saved! \r\n",
      " model is traced! \r\n",
      "\r\n",
      "/home/sheded/.local/lib/python3.10/site-packages/torch/functional.py:478: UserWarning: torch.meshgrid: in an upcoming release, it will be required to pass the indexing argument. (Triggered internally at  ../aten/src/ATen/native/TensorShape.cpp:2895.)\r\n",
      "  return _VF.meshgrid(tensors, **kwargs)  # type: ignore[attr-defined]\r\n",
      "1 horse, Done. (1610.0ms) Inference, (10.4ms) NMS\r\n",
      " The image with the result is saved in: runs/detect/exp2/horse.jpg\r\n",
      "Done. (1.764s)\r\n"
     ]
    }
   ],
   "source": [
    "!python detect.py --weights yolov7.pt --conf 0.5 --img-size 640 --source horse.jpg"
   ],
   "metadata": {
    "collapsed": false
   }
  },
  {
   "cell_type": "code",
   "execution_count": null,
   "outputs": [],
   "source": [],
   "metadata": {
    "collapsed": false
   }
  }
 ],
 "metadata": {
  "kernelspec": {
   "display_name": "Python 3",
   "language": "python",
   "name": "python3"
  },
  "language_info": {
   "codemirror_mode": {
    "name": "ipython",
    "version": 2
   },
   "file_extension": ".py",
   "mimetype": "text/x-python",
   "name": "python",
   "nbconvert_exporter": "python",
   "pygments_lexer": "ipython2",
   "version": "2.7.6"
  }
 },
 "nbformat": 4,
 "nbformat_minor": 0
}
