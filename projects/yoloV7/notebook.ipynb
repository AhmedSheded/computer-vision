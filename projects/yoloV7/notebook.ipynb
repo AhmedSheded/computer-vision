{
 "cells": [
  {
   "cell_type": "code",
   "execution_count": 1,
   "metadata": {
    "collapsed": true
   },
   "outputs": [],
   "source": [
    "import os"
   ]
  },
  {
   "cell_type": "code",
   "execution_count": 2,
   "outputs": [],
   "source": [
    "os.chdir('../../data')"
   ],
   "metadata": {
    "collapsed": false
   }
  },
  {
   "cell_type": "code",
   "execution_count": 3,
   "outputs": [
    {
     "name": "stdout",
     "output_type": "stream",
     "text": [
      "fatal: destination path 'yolov7' already exists and is not an empty directory.\r\n"
     ]
    }
   ],
   "source": [
    "!git clone https://github.com/WongKinYiu/yolov7.git"
   ],
   "metadata": {
    "collapsed": false
   }
  },
  {
   "cell_type": "code",
   "execution_count": 4,
   "outputs": [],
   "source": [
    "os.chdir('yolov7')"
   ],
   "metadata": {
    "collapsed": false
   }
  },
  {
   "cell_type": "code",
   "execution_count": 5,
   "outputs": [
    {
     "name": "stdout",
     "output_type": "stream",
     "text": [
      "309141860_116038607945548_3283915091619734493_n.mp4  __pycache__\r\n",
      "cfg\t\t\t\t\t\t     README.md\r\n",
      "data\t\t\t\t\t\t     requirements.txt\r\n",
      "deploy\t\t\t\t\t\t     runs\r\n",
      "detect_or_track.py\t\t\t\t     scripts\r\n",
      "detect.py\t\t\t\t\t     sort.py\r\n",
      "export.py\t\t\t\t\t     street.mp4\r\n",
      "figure\t\t\t\t\t\t     test.py\r\n",
      "horse.jpg\t\t\t\t\t     tools\r\n",
      "hubconf.py\t\t\t\t\t     traced_model.pt\r\n",
      "inference\t\t\t\t\t     train_aux.py\r\n",
      "LICENSE.md\t\t\t\t\t     train.py\r\n",
      "me.png\t\t\t\t\t\t     utils\r\n",
      "models\t\t\t\t\t\t     yolov7.pt\r\n",
      "paper\t\t\t\t\t\t     yolov7-tiny.pt\r\n"
     ]
    }
   ],
   "source": [
    "!ls"
   ],
   "metadata": {
    "collapsed": false
   }
  },
  {
   "cell_type": "code",
   "execution_count": 6,
   "outputs": [
    {
     "name": "stdout",
     "output_type": "stream",
     "text": [
      "Traceback (most recent call last):\r\n",
      "  File \"/home/sheded/DataspellProjects/computer vision/data/yolov7/detect_or_track.py\", line 9, in <module>\r\n",
      "    from models.experimental import attempt_load\r\n",
      "  File \"/home/sheded/DataspellProjects/computer vision/data/yolov7/models/experimental.py\", line 6, in <module>\r\n",
      "    from models.common import Conv, DWConv\r\n",
      "  File \"/home/sheded/DataspellProjects/computer vision/data/yolov7/models/common.py\", line 11, in <module>\r\n",
      "    from torchvision.ops import DeformConv2d\r\n",
      "  File \"/home/sheded/anaconda3/lib/python3.9/site-packages/torchvision/__init__.py\", line 2, in <module>\r\n",
      "    from torchvision import datasets\r\n",
      "  File \"/home/sheded/anaconda3/lib/python3.9/site-packages/torchvision/datasets/__init__.py\", line 9, in <module>\r\n",
      "    from .fakedata import FakeData\r\n",
      "  File \"/home/sheded/anaconda3/lib/python3.9/site-packages/torchvision/datasets/fakedata.py\", line 3, in <module>\r\n",
      "    from .. import transforms\r\n",
      "  File \"/home/sheded/anaconda3/lib/python3.9/site-packages/torchvision/transforms/__init__.py\", line 1, in <module>\r\n",
      "    from .transforms import *\r\n",
      "  File \"/home/sheded/anaconda3/lib/python3.9/site-packages/torchvision/transforms/transforms.py\", line 17, in <module>\r\n",
      "    from . import functional as F\r\n",
      "  File \"/home/sheded/anaconda3/lib/python3.9/site-packages/torchvision/transforms/functional.py\", line 5, in <module>\r\n",
      "    from PIL import Image, ImageOps, ImageEnhance, PILLOW_VERSION\r\n",
      "ImportError: cannot import name 'PILLOW_VERSION' from 'PIL' (/home/sheded/anaconda3/lib/python3.9/site-packages/PIL/__init__.py)\r\n"
     ]
    }
   ],
   "source": [
    "!python detect_or_track.py --weights yolov7.pt --conf 0.5 --img-size 640 --source ../goal.mp4"
   ],
   "metadata": {
    "collapsed": false
   }
  },
  {
   "cell_type": "code",
   "execution_count": 6,
   "outputs": [],
   "source": [],
   "metadata": {
    "collapsed": false
   }
  }
 ],
 "metadata": {
  "kernelspec": {
   "display_name": "Python 3",
   "language": "python",
   "name": "python3"
  },
  "language_info": {
   "codemirror_mode": {
    "name": "ipython",
    "version": 2
   },
   "file_extension": ".py",
   "mimetype": "text/x-python",
   "name": "python",
   "nbconvert_exporter": "python",
   "pygments_lexer": "ipython2",
   "version": "2.7.6"
  }
 },
 "nbformat": 4,
 "nbformat_minor": 0
}
