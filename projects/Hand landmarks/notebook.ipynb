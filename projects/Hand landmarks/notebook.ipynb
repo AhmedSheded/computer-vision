{
 "cells": [
  {
   "cell_type": "code",
   "execution_count": 1,
   "metadata": {
    "collapsed": true
   },
   "outputs": [],
   "source": [
    "import cv2 as cv\n",
    "import time\n",
    "import mediapipe\n",
    "import os\n",
    "os.chdir('../../data')"
   ]
  },
  {
   "cell_type": "code",
   "execution_count": null,
   "outputs": [],
   "source": [
    "cap = cv.VideoCapture(1)\n",
    "width = int(cap.get(cv.CAP_PROP_FRAME_WIDTH))\n",
    "height = int(cap.get(cv.CAP_PROP_FRAME_HEIGHT))\n",
    "fourcc = cv.VideoWriter_fourcc(*'MP4V')\n",
    "writer = cv.VideoWriter('hand landmarks.mp4', fourcc, 30, (width, height))\n",
    "mphands = mediapipe.solutions.hands\n",
    "hands = mphands.Hands()\n",
    "mpDraw = mediapipe.solutions.drawing_utils\n",
    "\n",
    "pTime = 0\n",
    "cTime = 0\n",
    "\n",
    "while cap.isOpened():\n",
    "    ret, frame = cap.read()\n",
    "    if ret:\n",
    "        rgbFrame = cv.cvtColor(frame, cv.COLOR_BGR2RGB)\n",
    "        detections = hands.process(rgbFrame)\n",
    "\n",
    "        if detections.multi_hand_landmarks:\n",
    "            for handLms in detections.multi_hand_landmarks:\n",
    "                # for i, lm in enumerate(handLms.landmark):\n",
    "                #     print(i, lm)\n",
    "                #     h, w, c = frame.shape\n",
    "                #     cx, cy = int(lm.x*w), int(lm.y*h)\n",
    "                #\n",
    "                #     cv.circle(frame, (cx, cy), 3, (255, 0, 255), cv.FILLED)\n",
    "                mpDraw.draw_landmarks(frame, handLms, mphands.HAND_CONNECTIONS)\n",
    "\n",
    "        # cTime = time.time()\n",
    "        # fps = 1/(cTime-pTime)\n",
    "        # pTime=cTime\n",
    "        # cv.putText(frame, str(int(fps)), (15, 50), cv.FONT_HERSHEY_PLAIN, 3, (255, 0, 0), 2)\n",
    "\n",
    "        writer.write(frame)\n",
    "\n",
    "        cv.imshow('frame', frame)\n",
    "        if cv.waitKey(1) == 27:\n",
    "            break\n",
    "    else:\n",
    "        break\n",
    "\n",
    "\n",
    "writer.release()\n",
    "cap.release()\n",
    "cv.destroyAllWindows()"
   ],
   "metadata": {
    "collapsed": false,
    "pycharm": {
     "is_executing": true
    }
   }
  },
  {
   "cell_type": "code",
   "execution_count": 2,
   "outputs": [],
   "source": [],
   "metadata": {
    "collapsed": false
   }
  }
 ],
 "metadata": {
  "kernelspec": {
   "display_name": "Python 3",
   "language": "python",
   "name": "python3"
  },
  "language_info": {
   "codemirror_mode": {
    "name": "ipython",
    "version": 2
   },
   "file_extension": ".py",
   "mimetype": "text/x-python",
   "name": "python",
   "nbconvert_exporter": "python",
   "pygments_lexer": "ipython2",
   "version": "2.7.6"
  }
 },
 "nbformat": 4,
 "nbformat_minor": 0
}
