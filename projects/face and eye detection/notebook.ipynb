{
 "cells": [
  {
   "cell_type": "code",
   "execution_count": 1,
   "metadata": {
    "collapsed": true
   },
   "outputs": [],
   "source": [
    "import cv2 as cv\n",
    "import os\n",
    "os.chdir('../../data')"
   ]
  },
  {
   "cell_type": "code",
   "execution_count": null,
   "outputs": [],
   "source": [
    "face_cascade = cv.CascadeClassifier('cascades/haarcascade_frontalface_default.xml')\n",
    "eye_cascade = cv.CascadeClassifier('cascades/haarcascade_eye_tree_eyeglasses.xml')\n",
    "\n",
    "cap = cv.VideoCapture(0)\n",
    "forcc = cv.VideoWriter_fourcc(*'MP4V')\n",
    "width = int(cap.get(cv.CAP_PROP_FRAME_WIDTH))\n",
    "height = int(cap.get(cv.CAP_PROP_FRAME_HEIGHT))\n",
    "\n",
    "writer = cv.VideoWriter('face detection.mp4', forcc, 30, (width, height))\n",
    "\n",
    "while cap.isOpened():\n",
    "    _, frame = cap.read()\n",
    "    frame = cv.flip(frame, 1)\n",
    "    grey = cv.cvtColor(frame, cv.COLOR_BGR2GRAY)\n",
    "    faces = face_cascade.detectMultiScale(grey, 1.1, 4)\n",
    "\n",
    "    for x, y, w, h in faces:\n",
    "        cv.rectangle(frame, (x, y), (x+w, y+h), (255, 0, 0), 3)\n",
    "        cv.putText(frame, 'Face', (x, y-4), cv.FONT_HERSHEY_COMPLEX, 1, (255, 255, 200), 2)\n",
    "        roi_grey= grey[y:y+h, x:x+w]\n",
    "        eyes = eye_cascade.detectMultiScale(roi_grey, 2.3, 4)\n",
    "        for ex, ey, ew, eh in eyes:\n",
    "            cv.rectangle(frame[y:y+h, x:x+w], (ex, ey), (ex+ew, ey+eh), (0, 255, 0), 3)\n",
    "            cv.putText(frame[y:y+h, x:x+w], 'Eye', (ex, ey-3), cv.FONT_HERSHEY_COMPLEX, 0.8, (255, 200, 200), 2)\n",
    "\n",
    "    writer.write(frame)\n",
    "    # display output\n",
    "    cv.imshow('frame', frame)\n",
    "    if cv.waitKey(1) == 27:\n",
    "        cv.destroyAllWindows()\n",
    "        break\n",
    "writer.release()\n",
    "cap.release()"
   ],
   "metadata": {
    "collapsed": false,
    "pycharm": {
     "is_executing": true
    }
   }
  },
  {
   "cell_type": "code",
   "execution_count": null,
   "outputs": [],
   "source": [],
   "metadata": {
    "collapsed": false
   }
  }
 ],
 "metadata": {
  "kernelspec": {
   "display_name": "Python 3",
   "language": "python",
   "name": "python3"
  },
  "language_info": {
   "codemirror_mode": {
    "name": "ipython",
    "version": 2
   },
   "file_extension": ".py",
   "mimetype": "text/x-python",
   "name": "python",
   "nbconvert_exporter": "python",
   "pygments_lexer": "ipython2",
   "version": "2.7.6"
  }
 },
 "nbformat": 4,
 "nbformat_minor": 0
}
