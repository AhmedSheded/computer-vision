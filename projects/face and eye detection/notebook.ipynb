{
 "cells": [
  {
   "cell_type": "code",
   "execution_count": 1,
   "metadata": {
    "collapsed": true
   },
   "outputs": [],
   "source": [
    "import cv2 as cv\n",
    "import os\n",
    "os.chdir('../../data')"
   ]
  },
  {
   "cell_type": "code",
   "execution_count": 2,
   "outputs": [
    {
     "name": "stderr",
     "output_type": "stream",
     "text": [
      "OpenCV: FFMPEG: tag 0x5634504d/'MP4V' is not supported with codec id 12 and format 'mp4 / MP4 (MPEG-4 Part 14)'\n",
      "OpenCV: FFMPEG: fallback to use tag 0x7634706d/'mp4v'\n"
     ]
    },
    {
     "name": "stdout",
     "output_type": "stream",
     "text": [
      "True\n"
     ]
    },
    {
     "name": "stderr",
     "output_type": "stream",
     "text": [
      "[ WARN:0@10.179] global /io/opencv/modules/videoio/src/cap_v4l.cpp (1000) tryIoctl VIDEOIO(V4L2:/dev/video0): select() timeout.\n"
     ]
    },
    {
     "name": "stdout",
     "output_type": "stream",
     "text": [
      "False\n"
     ]
    },
    {
     "ename": "error",
     "evalue": "OpenCV(4.5.5) /io/opencv/modules/imgproc/src/color.cpp:182: error: (-215:Assertion failed) !_src.empty() in function 'cvtColor'\n",
     "output_type": "error",
     "traceback": [
      "\u001B[0;31m---------------------------------------------------------------------------\u001B[0m",
      "\u001B[0;31merror\u001B[0m                                     Traceback (most recent call last)",
      "Cell \u001B[0;32mIn [2], line 16\u001B[0m\n\u001B[1;32m     14\u001B[0m \u001B[38;5;28mprint\u001B[39m(ret)\n\u001B[1;32m     15\u001B[0m frame \u001B[38;5;241m=\u001B[39m cv\u001B[38;5;241m.\u001B[39mflip(frame, \u001B[38;5;241m1\u001B[39m)\n\u001B[0;32m---> 16\u001B[0m grey \u001B[38;5;241m=\u001B[39m cv\u001B[38;5;241m.\u001B[39mcvtColor(frame, cv\u001B[38;5;241m.\u001B[39mCOLOR_BGR2GRAY)\n\u001B[1;32m     17\u001B[0m faces \u001B[38;5;241m=\u001B[39m face_cascade\u001B[38;5;241m.\u001B[39mdetectMultiScale(grey, \u001B[38;5;241m1.1\u001B[39m, \u001B[38;5;241m4\u001B[39m)\n\u001B[1;32m     19\u001B[0m \u001B[38;5;28;01mfor\u001B[39;00m x, y, w, h \u001B[38;5;129;01min\u001B[39;00m faces:\n",
      "\u001B[0;31merror\u001B[0m: OpenCV(4.5.5) /io/opencv/modules/imgproc/src/color.cpp:182: error: (-215:Assertion failed) !_src.empty() in function 'cvtColor'\n"
     ]
    }
   ],
   "source": [
    "face_cascade = cv.CascadeClassifier('cascades/haarcascade_frontalface_default.xml')\n",
    "eye_cascade = cv.CascadeClassifier('cascades/haarcascade_eye_tree_eyeglasses.xml')\n",
    "\n",
    "cap = cv.VideoCapture(0)\n",
    "forcc = cv.VideoWriter_fourcc(*'MP4V')\n",
    "width = int(cap.get(cv.CAP_PROP_FRAME_WIDTH))\n",
    "height = int(cap.get(cv.CAP_PROP_FRAME_HEIGHT))\n",
    "\n",
    "writer = cv.VideoWriter('face detection.mp4', forcc, 30, (width, height))\n",
    "\n",
    "while cap.isOpened():\n",
    "    ret, frame = cap.read()\n",
    "    frame = cv.flip(frame, 1)\n",
    "    grey = cv.cvtColor(frame, cv.COLOR_BGR2GRAY)\n",
    "    faces = face_cascade.detectMultiScale(grey, 1.1, 4)\n",
    "\n",
    "    for x, y, w, h in faces:\n",
    "        cv.rectangle(frame, (x, y), (x+w, y+h), (255, 0, 0), 3)\n",
    "        cv.putText(frame, 'Face', (x, y-4), cv.FONT_HERSHEY_COMPLEX, 1, (255, 255, 200), 2)\n",
    "        roi_grey= grey[y:y+h, x:x+w]\n",
    "        eyes = eye_cascade.detectMultiScale(roi_grey, 2.3, 4)\n",
    "        for ex, ey, ew, eh in eyes:\n",
    "            cv.rectangle(frame[y:y+h, x:x+w], (ex, ey), (ex+ew, ey+eh), (0, 255, 0), 3)\n",
    "            cv.putText(frame[y:y+h, x:x+w], 'Eye', (ex, ey-3), cv.FONT_HERSHEY_COMPLEX, 0.8, (255, 200, 200), 2)\n",
    "\n",
    "    writer.write(frame)\n",
    "    # display output\n",
    "    cv.imshow('frame', frame)\n",
    "    if cv.waitKey(1) == 27:\n",
    "        cv.destroyAllWindows()\n",
    "        break\n",
    "writer.release()\n",
    "cap.release()"
   ],
   "metadata": {
    "collapsed": false
   }
  },
  {
   "cell_type": "code",
   "execution_count": null,
   "outputs": [],
   "source": [],
   "metadata": {
    "collapsed": false
   }
  }
 ],
 "metadata": {
  "kernelspec": {
   "display_name": "Python 3",
   "language": "python",
   "name": "python3"
  },
  "language_info": {
   "codemirror_mode": {
    "name": "ipython",
    "version": 2
   },
   "file_extension": ".py",
   "mimetype": "text/x-python",
   "name": "python",
   "nbconvert_exporter": "python",
   "pygments_lexer": "ipython2",
   "version": "2.7.6"
  }
 },
 "nbformat": 4,
 "nbformat_minor": 0
}
