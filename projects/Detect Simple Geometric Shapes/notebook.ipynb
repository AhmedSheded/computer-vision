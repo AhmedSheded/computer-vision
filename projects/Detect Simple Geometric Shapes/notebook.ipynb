{
 "cells": [
  {
   "cell_type": "code",
   "execution_count": 1,
   "metadata": {
    "collapsed": true
   },
   "outputs": [],
   "source": [
    "import cv2 as cv\n",
    "import os\n",
    "os.chdir('../../data')"
   ]
  },
  {
   "cell_type": "code",
   "execution_count": 2,
   "outputs": [
    {
     "ename": "error",
     "evalue": "OpenCV(4.5.4) /tmp/pip-req-build-4x5kub8r/opencv/modules/highgui/src/window.cpp:1274: error: (-2:Unspecified error) The function is not implemented. Rebuild the library with Windows, GTK+ 2.x or Cocoa support. If you are on Ubuntu or Debian, install libgtk2.0-dev and pkg-config, then re-run cmake or configure script in function 'cvShowImage'\n",
     "output_type": "error",
     "traceback": [
      "\u001B[0;31m---------------------------------------------------------------------------\u001B[0m",
      "\u001B[0;31merror\u001B[0m                                     Traceback (most recent call last)",
      "Cell \u001B[0;32mIn [2], line 32\u001B[0m\n\u001B[1;32m     30\u001B[0m     \u001B[38;5;28;01melse\u001B[39;00m:\n\u001B[1;32m     31\u001B[0m         cv\u001B[38;5;241m.\u001B[39mputText(img, \u001B[38;5;124m'\u001B[39m\u001B[38;5;124mCircle\u001B[39m\u001B[38;5;124m'\u001B[39m, (x, y), cv\u001B[38;5;241m.\u001B[39mFONT_HERSHEY_SIMPLEX, \u001B[38;5;241m0.5\u001B[39m, (\u001B[38;5;241m0\u001B[39m, \u001B[38;5;241m0\u001B[39m, \u001B[38;5;241m0\u001B[39m))\n\u001B[0;32m---> 32\u001B[0m cv\u001B[38;5;241m.\u001B[39mimshow(\u001B[38;5;124m'\u001B[39m\u001B[38;5;124mshapes\u001B[39m\u001B[38;5;124m'\u001B[39m, img)\n\u001B[1;32m     33\u001B[0m cv\u001B[38;5;241m.\u001B[39mwaitKey()\n\u001B[1;32m     34\u001B[0m cv\u001B[38;5;241m.\u001B[39mdestroyAllWindows()\n",
      "\u001B[0;31merror\u001B[0m: OpenCV(4.5.4) /tmp/pip-req-build-4x5kub8r/opencv/modules/highgui/src/window.cpp:1274: error: (-2:Unspecified error) The function is not implemented. Rebuild the library with Windows, GTK+ 2.x or Cocoa support. If you are on Ubuntu or Debian, install libgtk2.0-dev and pkg-config, then re-run cmake or configure script in function 'cvShowImage'\n"
     ]
    }
   ],
   "source": [
    "img = cv.imread('geo_shapes.png')\n",
    "\n",
    "imgGrey = cv.cvtColor(img, cv.COLOR_BGR2GRAY)\n",
    "\n",
    "_, thresh = cv.threshold(imgGrey, 240, 255, cv.THRESH_BINARY)\n",
    "\n",
    "contours, _ = cv.findContours(thresh, cv.RETR_TREE, cv.CHAIN_APPROX_NONE)\n",
    "\n",
    "for contour in contours:\n",
    "    #   approx to avoid noise                                    closed  closed\n",
    "    approx = cv.approxPolyDP(contour, 0.01 * cv.arcLength(contour, True), True)\n",
    "    # cv.drawContours(img, [approx], 0, (0, 0, 0), 4)\n",
    "    x = approx.ravel()[0]-4\n",
    "    y = approx.ravel()[1]-4\n",
    "\n",
    "    if len(approx)==3:\n",
    "        cv.putText(img, 'Triangle', (x, y), cv.FONT_HERSHEY_SIMPLEX, 0.5, (0, 0, 0))\n",
    "    elif len(approx)==4:\n",
    "        x1, y1, w, h = cv.boundingRect(approx)\n",
    "        aspectRatio = float(w)/h\n",
    "\n",
    "        if aspectRatio >= 0.95 and aspectRatio <= 1.05:\n",
    "            cv.putText(img, 'Square', (x, y), cv.FONT_HERSHEY_SIMPLEX, 0.5, (0, 0, 0))\n",
    "        else:\n",
    "            cv.putText(img, 'Rectangle', (x, y), cv.FONT_HERSHEY_SIMPLEX, 0.5, (0, 0, 0))\n",
    "    elif len(approx) == 5:\n",
    "        cv.putText(img, 'Pentagon', (x, y), cv.FONT_HERSHEY_SIMPLEX, 0.5, (0, 0, 0))\n",
    "    elif len(approx) == 10:\n",
    "        cv.putText(img, 'Star', (x, y), cv.FONT_HERSHEY_SIMPLEX, 0.5, (0, 0, 0))\n",
    "    else:\n",
    "        cv.putText(img, 'Circle', (x, y), cv.FONT_HERSHEY_SIMPLEX, 0.5, (0, 0, 0))\n",
    "cv.imshow('shapes', img)\n",
    "cv.waitKey()\n",
    "cv.destroyAllWindows()\n"
   ],
   "metadata": {
    "collapsed": false
   }
  },
  {
   "cell_type": "code",
   "execution_count": null,
   "outputs": [],
   "source": [
    "print(cv.getBuildInformation())"
   ],
   "metadata": {
    "collapsed": false
   }
  },
  {
   "cell_type": "code",
   "execution_count": null,
   "outputs": [],
   "source": [
    "print(cv.getBuildInformation())\n"
   ],
   "metadata": {
    "collapsed": false
   }
  },
  {
   "cell_type": "code",
   "execution_count": null,
   "outputs": [],
   "source": [],
   "metadata": {
    "collapsed": false
   }
  }
 ],
 "metadata": {
  "kernelspec": {
   "display_name": "Python 3",
   "language": "python",
   "name": "python3"
  },
  "language_info": {
   "codemirror_mode": {
    "name": "ipython",
    "version": 2
   },
   "file_extension": ".py",
   "mimetype": "text/x-python",
   "name": "python",
   "nbconvert_exporter": "python",
   "pygments_lexer": "ipython2",
   "version": "2.7.6"
  }
 },
 "nbformat": 4,
 "nbformat_minor": 0
}
