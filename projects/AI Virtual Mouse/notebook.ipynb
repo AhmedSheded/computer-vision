{
 "cells": [
  {
   "cell_type": "markdown",
   "source": [
    "<img src=\"https://mediapipe.dev/images/mobile/hand_landmarks.png\" width=1200>"
   ],
   "metadata": {
    "collapsed": false
   }
  },
  {
   "cell_type": "code",
   "execution_count": 1,
   "outputs": [],
   "source": [
    "import cv2 as cv\n",
    "import mediapipe\n",
    "import numpy as np\n",
    "import pyautogui\n",
    "import os\n",
    "os.chdir('../../data')"
   ],
   "metadata": {
    "collapsed": false
   }
  },
  {
   "cell_type": "code",
   "execution_count": 2,
   "outputs": [],
   "source": [
    "mphands = mediapipe.solutions.hands\n",
    "detector = mphands.Hands()\n",
    "draw = mediapipe.solutions.drawing_utils\n",
    "\n",
    "wscreen,  hscreen = pyautogui.size()\n",
    "px, py = 0, 0\n",
    "cx, cy = 0, 0"
   ],
   "metadata": {
    "collapsed": false
   }
  },
  {
   "cell_type": "code",
   "execution_count": 3,
   "outputs": [],
   "source": [
    "def handLandmarks(img, frame):\n",
    "    landmarkList = []\n",
    "    landmarkPositions = detector.process(img)\n",
    "\n",
    "    landmarkCheck = landmarkPositions.multi_hand_landmarks\n",
    "\n",
    "    if landmarkCheck:\n",
    "        for hand in landmarkCheck:\n",
    "            for i, landmark in enumerate(hand.landmark):\n",
    "                draw.draw_landmarks(frame, hand, mphands.HAND_CONNECTIONS)\n",
    "                h, w, c = img.shape\n",
    "                centerX, centerY = int(landmark.x*w), int(landmark.y*h)\n",
    "                landmarkList.append([i, centerX, centerY])\n",
    "    return landmarkList, frame"
   ],
   "metadata": {
    "collapsed": false
   }
  },
  {
   "cell_type": "code",
   "execution_count": 4,
   "outputs": [
    {
     "name": "stderr",
     "output_type": "stream",
     "text": [
      "INFO: Created TensorFlow Lite XNNPACK delegate for CPU.\n"
     ]
    }
   ],
   "source": [
    "def fingers(landmarks):\n",
    "    fingerTips = []\n",
    "    tipIds = [4, 8, 12, 16, 20]\n",
    "\n",
    "    if landmarks[4][1] > landmarks[3][1]:\n",
    "        fingerTips.append(1)\n",
    "    else:\n",
    "        fingerTips.append(0)\n",
    "\n",
    "    for i in range(1, 5):\n",
    "        if landmarks[tipIds[i]][2] < landmarks[tipIds[i] - 3][2]:\n",
    "            fingerTips.append(1)\n",
    "        else:\n",
    "            fingerTips.append(0)\n",
    "    return fingerTips"
   ],
   "metadata": {
    "collapsed": false
   }
  },
  {
   "cell_type": "code",
   "execution_count": null,
   "outputs": [],
   "source": [
    "cap = cv.VideoCapture(1)\n",
    "\n",
    "while cap.isOpened():\n",
    "    ret, frame = cap.read()\n",
    "    if ret:\n",
    "        rgbFrame = cv.cvtColor(frame, cv.COLOR_BGR2RGB)\n",
    "        lmList, frame = handLandmarks(rgbFrame, frame)\n",
    "\n",
    "        if len(lmList) !=0:\n",
    "            x1, y1 = lmList[8][1:]\n",
    "            x2, y2 = lmList[12][1:]\n",
    "            finger = fingers(lmList)\n",
    "\n",
    "            if finger[1] == 1 and finger[2] == 0:\n",
    "                x3 = np.interp(x1, (0, int(cap.get(cv.CAP_PROP_FRAME_WIDTH))), (0, wscreen))\n",
    "                y3 = np.interp(y1, (0, int(cap.get(cv.CAP_PROP_FRAME_HEIGHT))), (0, hscreen))\n",
    "\n",
    "                cx = px + (x3 - px)/6\n",
    "                cy = py + (y3 - py)/6\n",
    "\n",
    "                pyautogui.moveTo(wscreen-cx, cy)\n",
    "                px, py = cx, cy\n",
    "\n",
    "            if finger[1] == 0:\n",
    "                pyautogui.click()\n",
    "        # cv.imshow('frame', frame)\n",
    "        if cv.waitKey(1) == 27:\n",
    "            break\n",
    "cap.release()\n",
    "cv.destroyAllWindows()"
   ],
   "metadata": {
    "collapsed": false,
    "pycharm": {
     "is_executing": true
    }
   }
  },
  {
   "cell_type": "code",
   "execution_count": 5,
   "outputs": [],
   "source": [],
   "metadata": {
    "collapsed": false
   }
  }
 ],
 "metadata": {
  "kernelspec": {
   "display_name": "Python 3",
   "language": "python",
   "name": "python3"
  },
  "language_info": {
   "codemirror_mode": {
    "name": "ipython",
    "version": 2
   },
   "file_extension": ".py",
   "mimetype": "text/x-python",
   "name": "python",
   "nbconvert_exporter": "python",
   "pygments_lexer": "ipython2",
   "version": "2.7.6"
  }
 },
 "nbformat": 4,
 "nbformat_minor": 0
}
