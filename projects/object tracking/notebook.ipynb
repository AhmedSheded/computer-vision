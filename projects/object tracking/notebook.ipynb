{
 "cells": [
  {
   "cell_type": "code",
   "execution_count": 1,
   "metadata": {
    "collapsed": true
   },
   "outputs": [],
   "source": [
    "import os"
   ]
  },
  {
   "cell_type": "code",
   "execution_count": 2,
   "outputs": [],
   "source": [
    "os.chdir('../../data/yolov7')"
   ],
   "metadata": {
    "collapsed": false
   }
  },
  {
   "cell_type": "code",
   "execution_count": 3,
   "outputs": [
    {
     "name": "stdout",
     "output_type": "stream",
     "text": [
      "309141860_116038607945548_3283915091619734493_n.mp4  README.md\r\n",
      "cfg\t\t\t\t\t\t     requirements.txt\r\n",
      "data\t\t\t\t\t\t     runs\r\n",
      "deploy\t\t\t\t\t\t     scripts\r\n",
      "detect_or_track.py\t\t\t\t     sort.py\r\n",
      "detect.py\t\t\t\t\t     street.mp4\r\n",
      "export.py\t\t\t\t\t     test.py\r\n",
      "figure\t\t\t\t\t\t     tools\r\n",
      "horse.jpg\t\t\t\t\t     traced_model.pt\r\n",
      "hubconf.py\t\t\t\t\t     train_aux.py\r\n",
      "inference\t\t\t\t\t     train.py\r\n",
      "LICENSE.md\t\t\t\t\t     utils\r\n",
      "me.png\t\t\t\t\t\t     yolov7.pt\r\n",
      "models\t\t\t\t\t\t     yolov7-tiny.pt\r\n",
      "paper\r\n"
     ]
    }
   ],
   "source": [
    "!ls"
   ],
   "metadata": {
    "collapsed": false
   }
  },
  {
   "cell_type": "code",
   "execution_count": 5,
   "outputs": [
    {
     "name": "stdout",
     "output_type": "stream",
     "text": [
      "Namespace(weights=['yolov7.pt'], source='street.mp4', img_size=640, conf_thres=0.25, iou_thres=0.45, device='', view_img=True, save_txt=False, save_conf=False, nosave=False, classes=None, agnostic_nms=False, augment=False, update=False, project='runs/detect', name='exp', exist_ok=False, no_trace=False, track=True, show_track=True, show_fps=True, thickness=2, seed=222, nobbox=False, nolabel=False, unique_track_color=True)\r\n",
      "/home/sheded/.local/lib/python3.10/site-packages/torch/cuda/__init__.py:83: UserWarning: CUDA initialization: The NVIDIA driver on your system is too old (found version 9010). Please update your GPU driver by downloading and installing a new version from the URL: http://www.nvidia.com/Download/index.aspx Alternatively, go to: https://pytorch.org to install a PyTorch version that has been compiled with your version of the CUDA driver. (Triggered internally at  ../c10/cuda/CUDAFunctions.cpp:109.)\r\n",
      "  return torch._C._cuda_getDeviceCount() > 0\r\n",
      "YOLOR 🚀 2022-10-9 torch 1.12.1+cu102 CPU\r\n",
      "\r\n",
      "Fusing layers... \r\n",
      "RepConv.fuse_repvgg_block\r\n",
      "RepConv.fuse_repvgg_block\r\n",
      "RepConv.fuse_repvgg_block\r\n",
      "[W NNPACK.cpp:51] Could not initialize NNPACK! Reason: Unsupported hardware.\r\n",
      "Model Summary: 306 layers, 36905341 parameters, 6652669 gradients\r\n",
      " Convert model to Traced-model... \r\n",
      " traced_script_module saved! \r\n",
      " model is traced! \r\n",
      "\r\n",
      "/home/sheded/.local/lib/python3.10/site-packages/torch/functional.py:478: UserWarning: torch.meshgrid: in an upcoming release, it will be required to pass the indexing argument. (Triggered internally at  ../aten/src/ATen/native/TensorShape.cpp:2895.)\r\n",
      "  return _VF.meshgrid(tensors, **kwargs)  # type: ignore[attr-defined]\r\n",
      "video 1/1 (1/302) /home/sheded/DataspellProjects/computer vision/data/yolov7/street.mp4: 18 persons, 3 bicycles, 1 bench, 3 handbags, 1 potted plant, Done. (2115.3ms) Inference, (10.1ms) NMS\r\n",
      "Traceback (most recent call last):\r\n",
      "  File \"/home/sheded/DataspellProjects/computer vision/data/yolov7/detect_or_track.py\", line 285, in <module>\r\n",
      "    detect()\r\n",
      "  File \"/home/sheded/DataspellProjects/computer vision/data/yolov7/detect_or_track.py\", line 208, in detect\r\n",
      "    cv2.imshow(str(p), im0)\r\n",
      "cv2.error: OpenCV(4.5.4) /tmp/pip-req-build-4x5kub8r/opencv/modules/highgui/src/window.cpp:1274: error: (-2:Unspecified error) The function is not implemented. Rebuild the library with Windows, GTK+ 2.x or Cocoa support. If you are on Ubuntu or Debian, install libgtk2.0-dev and pkg-config, then re-run cmake or configure script in function 'cvShowImage'\r\n",
      "\r\n"
     ]
    }
   ],
   "source": [
    "!python detect_or_track.py --weights yolov7.pt --view-img --source street.mp4 --show-fps --seed 222 --track --show-track --unique-track-color"
   ],
   "metadata": {
    "collapsed": false
   }
  },
  {
   "cell_type": "code",
   "execution_count": null,
   "outputs": [],
   "source": [],
   "metadata": {
    "collapsed": false
   }
  }
 ],
 "metadata": {
  "kernelspec": {
   "display_name": "Python 3",
   "language": "python",
   "name": "python3"
  },
  "language_info": {
   "codemirror_mode": {
    "name": "ipython",
    "version": 2
   },
   "file_extension": ".py",
   "mimetype": "text/x-python",
   "name": "python",
   "nbconvert_exporter": "python",
   "pygments_lexer": "ipython2",
   "version": "2.7.6"
  }
 },
 "nbformat": 4,
 "nbformat_minor": 0
}
