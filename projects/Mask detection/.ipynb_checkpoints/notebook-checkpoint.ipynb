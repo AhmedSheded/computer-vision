{
 "cells": [
  {
   "cell_type": "code",
   "execution_count": null,
   "metadata": {
    "collapsed": true,
    "pycharm": {
     "is_executing": true
    }
   },
   "outputs": [],
   "source": [
    "from keras.applications.mobilenet_v2 import preprocess_input\n",
    "from keras.utils import img_to_array\n",
    "from keras.models import load_model\n",
    "import numpy as np\n",
    "import imutils\n",
    "import time\n",
    "import cv2 as cv\n",
    "import os"
   ]
  },
  {
   "cell_type": "code",
   "execution_count": 2,
   "metadata": {},
   "outputs": [],
   "source": [
    "os.chdir('../../data/Face-Mask-Detection')"
   ]
  },
  {
   "cell_type": "code",
   "execution_count": 3,
   "metadata": {},
   "outputs": [],
   "source": [
    "def detect_mask(frame, faceNet, maskNet):\n",
    "    h, w = frame.shape[:2]\n",
    "    blob = cv.dnn.blobFromImage(frame, 1.0, (224, 224), (104.0, 177.0, 123.0))\n",
    "\n",
    "    faceNet.setInput(blob)\n",
    "    detections = faceNet.forward()\n",
    "\n",
    "    faces = []\n",
    "    locs = []\n",
    "    preds = []\n",
    "\n",
    "    for i in range(detections.shape[2]):\n",
    "        confidence = detections[0, 0, i, 2]\n",
    "        if confidence > 0.5:\n",
    "            box = detections[0, 0, i, 3:7] * np.array([w, h, w, h])\n",
    "            startx, starty, endx, endy = box.astype('int')\n",
    "\n",
    "            startx, starty = max(0, startx), max(0, starty)\n",
    "            endx, endy = min(w-1, endx), min(h-1, endy)\n",
    "\n",
    "            face = frame[starty:endy, startx:endx]\n",
    "            face = cv.cvtColor(face, cv.COLOR_BGR2RGB)\n",
    "            face = cv.resize(face, (224, 224))\n",
    "            face = img_to_array(face)\n",
    "            face = preprocess_input(face)\n",
    "\n",
    "            faces.append(face)\n",
    "            locs.append((startx, starty, endx, endy))\n",
    "    if len(faces)>0:\n",
    "        faces = np.array(faces, dtype='float32')\n",
    "        preds = maskNet.predict(faces, batch_size=32, verbose=0)\n",
    "    return locs, preds"
   ]
  },
  {
   "cell_type": "code",
   "execution_count": null,
   "metadata": {
    "pycharm": {
     "is_executing": true
    }
   },
   "outputs": [],
   "source": [
    "prototxtPath = 'face_detector/deploy.prototxt'\n",
    "weightsPath = 'face_detector/res10_300x300_ssd_iter_140000.caffemodel'\n",
    "\n",
    "faceNet = cv.dnn.readNet(prototxtPath, weightsPath)\n",
    "maskNet = load_model('mask_detector.model')"
   ]
  },
  {
   "cell_type": "code",
   "execution_count": null,
   "metadata": {
    "pycharm": {
     "is_executing": true
    }
   },
   "outputs": [],
   "source": [
    "cap = cv.VideoCapture(1)\n",
    "fourcc = cv.VideoWriter_fourcc(*'MP4V')\n",
    "width = int(cap.get(cv.CAP_PROP_FRAME_WIDTH))\n",
    "height = int(cap.get(cv.CAP_PROP_FRAME_HEIGHT))\n",
    "writer = cv.VideoWriter('mask_detection.mp4', fourcc, 30, (width, height))\n",
    "while cap.isOpened():\n",
    "    ret, frame = cap.read()\n",
    "    if ret:\n",
    "        locs, preds = detect_mask(frame, faceNet, maskNet)\n",
    "\n",
    "        for box, pred in zip(locs, preds):\n",
    "            startx, starty, endx, endy = box\n",
    "            mask, withoutMask = pred\n",
    "\n",
    "            label = 'Mask' if mask > withoutMask else 'No Mask'\n",
    "            color = (0, 255, 0) if label == 'Mask' else (0, 0, 255)\n",
    "\n",
    "            label = '{}: {:.2f}%'.format(label, max(mask, withoutMask) * 100)\n",
    "\n",
    "            cv.putText(frame, label, (startx, starty-10), cv.FONT_HERSHEY_SIMPLEX, 0.45, color, 2)\n",
    "            cv.rectangle(frame, (startx, starty), (endx, endy), color, 2)\n",
    "        writer.write(frame)\n",
    "        cv.imshow('frame', frame)\n",
    "        if cv.waitKey(20) ==27:\n",
    "            break\n",
    "    else:\n",
    "        break\n",
    "writer.release()\n",
    "cap.release()\n",
    "cv.destroyAllWindows()"
   ]
  },
  {
   "cell_type": "code",
   "execution_count": 5,
   "metadata": {},
   "outputs": [],
   "source": []
  }
 ],
 "metadata": {
  "kernelspec": {
   "display_name": "Python 3 (ipykernel)",
   "language": "python",
   "name": "python3"
  },
  "language_info": {
   "codemirror_mode": {
    "name": "ipython",
    "version": 3
   },
   "file_extension": ".py",
   "mimetype": "text/x-python",
   "name": "python",
   "nbconvert_exporter": "python",
   "pygments_lexer": "ipython3",
   "version": "3.10.6"
  }
 },
 "nbformat": 4,
 "nbformat_minor": 1
}
