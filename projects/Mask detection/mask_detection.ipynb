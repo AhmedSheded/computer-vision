{
 "nbformat": 4,
 "nbformat_minor": 0,
 "metadata": {
  "colab": {
   "provenance": []
  },
  "kernelspec": {
   "name": "python3",
   "display_name": "Python 3"
  },
  "language_info": {
   "name": "python"
  },
  "accelerator": "GPU"
 },
 "cells": [
  {
   "cell_type": "code",
   "execution_count": 16,
   "metadata": {
    "id": "fMRNUsu0FjHz"
   },
   "outputs": [],
   "source": [
    "from keras.preprocessing.image import ImageDataGenerator, img_to_array, load_img\n",
    "from tensorflow.keras.applications import MobileNetV2\n",
    "from keras.applications.mobilenet_v2 import preprocess_input\n",
    "from keras.layers import AveragePooling2D, Dropout, Flatten, Dense, Input\n",
    "from keras.models import Model\n",
    "from tensorflow.keras.optimizers import Adam\n",
    "from tensorflow.keras.utils import to_categorical\n",
    "from sklearn.preprocessing import LabelBinarizer\n",
    "from sklearn.model_selection import train_test_split\n",
    "from sklearn.metrics import classification_report\n",
    "from imutils import paths\n",
    "import matplotlib.pyplot as plt\n",
    "import numpy as np\n",
    "import os"
   ]
  },
  {
   "cell_type": "code",
   "source": [
    "!git clone https://github.com/balajisrinivas/Face-Mask-Detection.git"
   ],
   "metadata": {
    "id": "QMwwvcClF_7s",
    "colab": {
     "base_uri": "https://localhost:8080/"
    },
    "outputId": "b20e5b4f-565e-4ad8-d969-b689073e07ec"
   },
   "execution_count": 2,
   "outputs": [
    {
     "output_type": "stream",
     "name": "stdout",
     "text": [
      "Cloning into 'Face-Mask-Detection'...\n",
      "remote: Enumerating objects: 3767, done.\u001B[K\n",
      "remote: Counting objects: 100% (3/3), done.\u001B[K\n",
      "remote: Compressing objects: 100% (3/3), done.\u001B[K\n",
      "remote: Total 3767 (delta 0), reused 0 (delta 0), pack-reused 3764\u001B[K\n",
      "Receiving objects: 100% (3767/3767), 143.05 MiB | 22.99 MiB/s, done.\n",
      "Resolving deltas: 100% (2/2), done.\n"
     ]
    }
   ]
  },
  {
   "cell_type": "code",
   "source": [
    "directory = 'Face-Mask-Detection/dataset'\n",
    "categories = ['with_mask', 'without_mask']\n",
    "\n",
    "data = []\n",
    "labels = []\n",
    "\n",
    "for category in categories:\n",
    "    path = os.path.join(directory, category)\n",
    "    for img in os.listdir(path):\n",
    "        img_path = os.path.join(path, img)\n",
    "        image = load_img(img_path, target_size=(224, 224))\n",
    "        image = img_to_array(image)\n",
    "        image = preprocess_input(image)\n",
    "\n",
    "        data.append(image)\n",
    "        labels.append(category)"
   ],
   "metadata": {
    "id": "ng9wXPPtLYmb",
    "colab": {
     "base_uri": "https://localhost:8080/"
    },
    "outputId": "d18280f8-f40a-4a42-f2b9-a904fa60463a",
    "pycharm": {
     "is_executing": true
    }
   },
   "execution_count": null,
   "outputs": []
  },
  {
   "cell_type": "code",
   "source": [
    "lb = LabelBinarizer()\n",
    "labels = lb.fit_transform(labels)\n",
    "labels = to_categorical(labels)\n",
    "\n",
    "data = np.array(data, dtype='float32')\n",
    "labels = np.array(labels)\n",
    "\n",
    "X_train, X_test, y_train, y_test = train_test_split(data, labels, test_size=0.2, stratify=labels, random_state=222)"
   ],
   "metadata": {
    "id": "qk2LGu4f5pbM"
   },
   "execution_count": 8,
   "outputs": []
  },
  {
   "cell_type": "code",
   "source": [
    "augment = ImageDataGenerator(\n",
    "    rotation_range=20,\n",
    "    zoom_range=0.15,\n",
    "    width_shift_range=0.2,\n",
    "    height_shift_range=0.2,\n",
    "    shear_range=0.15,\n",
    "    horizontal_flip=True,\n",
    "    fill_mode='nearest'\n",
    ")"
   ],
   "metadata": {
    "id": "7oy9S29g5s4L"
   },
   "execution_count": 10,
   "outputs": []
  },
  {
   "cell_type": "code",
   "source": [
    "mobileNet = MobileNetV2(weights='imagenet', include_top=False, input_tensor=Input(shape=(224, 224, 3)))\n",
    "\n",
    "headModel = mobileNet.output\n",
    "headModel = AveragePooling2D(pool_size=(7, 7))(headModel)\n",
    "headModel = Flatten(name='flatten')(headModel)\n",
    "headModel = Dense(128, activation='relu')(headModel)\n",
    "headModel = Dropout(0.5)(headModel)\n",
    "headModel = Dense(2, activation='softmax')(headModel)\n",
    "\n",
    "model = Model(inputs=mobileNet.input, outputs=headModel)"
   ],
   "metadata": {
    "colab": {
     "base_uri": "https://localhost:8080/"
    },
    "id": "1YyJ0iX66XXn",
    "outputId": "a4998af1-ee7b-4186-d34a-7f14da96dc3d",
    "pycharm": {
     "is_executing": true
    }
   },
   "execution_count": null,
   "outputs": []
  },
  {
   "cell_type": "code",
   "source": [
    "lr = 1e-4\n",
    "epochs = 20\n",
    "bs = 32"
   ],
   "metadata": {
    "id": "MyiH-PVK-jxl"
   },
   "execution_count": 19,
   "outputs": []
  },
  {
   "cell_type": "code",
   "source": [
    "#freeze some layers\n",
    "for layer in mobileNet.layers:\n",
    "  layer.trainable = False\n",
    "\n",
    "optmizer = Adam(learning_rate=lr, decay=lr/epochs)\n",
    "model.compile(loss='binary_crossentropy', optimizer=optmizer, metrics=['accuracy'])"
   ],
   "metadata": {
    "id": "Z7E4dEFo9F1C"
   },
   "execution_count": 21,
   "outputs": []
  },
  {
   "cell_type": "code",
   "source": [
    "history = model.fit(augment.flow(X_train, y_train, batch_size=bs), steps_per_epoch=len(X_train)//bs, validation_data=(X_test, y_test),\n",
    "                    validation_steps=len(X_test//bs), epochs=epochs)"
   ],
   "metadata": {
    "colab": {
     "base_uri": "https://localhost:8080/"
    },
    "id": "sy-_eesy_Twt",
    "outputId": "a0209e01-6f2d-400e-bab4-0ef6151b744c"
   },
   "execution_count": 22,
   "outputs": [
    {
     "output_type": "stream",
     "name": "stdout",
     "text": [
      "Epoch 1/20\n",
      "95/95 [==============================] - 49s 413ms/step - loss: 0.4210 - accuracy: 0.8425 - val_loss: 0.1701 - val_accuracy: 0.9752\n",
      "Epoch 2/20\n",
      "95/95 [==============================] - 35s 369ms/step - loss: 0.1621 - accuracy: 0.9634 - val_loss: 0.0926 - val_accuracy: 0.9778\n",
      "Epoch 3/20\n",
      "95/95 [==============================] - 36s 378ms/step - loss: 0.1028 - accuracy: 0.9763 - val_loss: 0.0680 - val_accuracy: 0.9831\n",
      "Epoch 4/20\n",
      "95/95 [==============================] - 35s 371ms/step - loss: 0.0804 - accuracy: 0.9796 - val_loss: 0.0577 - val_accuracy: 0.9831\n",
      "Epoch 5/20\n",
      "95/95 [==============================] - 35s 368ms/step - loss: 0.0747 - accuracy: 0.9822 - val_loss: 0.0520 - val_accuracy: 0.9831\n",
      "Epoch 6/20\n",
      "95/95 [==============================] - 36s 376ms/step - loss: 0.0658 - accuracy: 0.9835 - val_loss: 0.0504 - val_accuracy: 0.9844\n",
      "Epoch 7/20\n",
      "95/95 [==============================] - 45s 477ms/step - loss: 0.0594 - accuracy: 0.9822 - val_loss: 0.0467 - val_accuracy: 0.9870\n",
      "Epoch 8/20\n",
      "95/95 [==============================] - 36s 377ms/step - loss: 0.0556 - accuracy: 0.9835 - val_loss: 0.0411 - val_accuracy: 0.9883\n",
      "Epoch 9/20\n",
      "95/95 [==============================] - 35s 368ms/step - loss: 0.0453 - accuracy: 0.9878 - val_loss: 0.0397 - val_accuracy: 0.9857\n",
      "Epoch 10/20\n",
      "95/95 [==============================] - 35s 369ms/step - loss: 0.0452 - accuracy: 0.9865 - val_loss: 0.0362 - val_accuracy: 0.9909\n",
      "Epoch 11/20\n",
      "95/95 [==============================] - 35s 367ms/step - loss: 0.0443 - accuracy: 0.9845 - val_loss: 0.0316 - val_accuracy: 0.9909\n",
      "Epoch 12/20\n",
      "95/95 [==============================] - 45s 478ms/step - loss: 0.0421 - accuracy: 0.9871 - val_loss: 0.0375 - val_accuracy: 0.9883\n",
      "Epoch 13/20\n",
      "95/95 [==============================] - 45s 471ms/step - loss: 0.0353 - accuracy: 0.9891 - val_loss: 0.0352 - val_accuracy: 0.9883\n",
      "Epoch 14/20\n",
      "95/95 [==============================] - 45s 468ms/step - loss: 0.0321 - accuracy: 0.9914 - val_loss: 0.0275 - val_accuracy: 0.9948\n",
      "Epoch 15/20\n",
      "95/95 [==============================] - 36s 377ms/step - loss: 0.0353 - accuracy: 0.9904 - val_loss: 0.0325 - val_accuracy: 0.9922\n",
      "Epoch 16/20\n",
      "95/95 [==============================] - 38s 399ms/step - loss: 0.0310 - accuracy: 0.9911 - val_loss: 0.0254 - val_accuracy: 0.9961\n",
      "Epoch 17/20\n",
      "95/95 [==============================] - 49s 516ms/step - loss: 0.0348 - accuracy: 0.9891 - val_loss: 0.0275 - val_accuracy: 0.9948\n",
      "Epoch 18/20\n",
      "95/95 [==============================] - 37s 384ms/step - loss: 0.0295 - accuracy: 0.9918 - val_loss: 0.0356 - val_accuracy: 0.9870\n",
      "Epoch 19/20\n",
      "95/95 [==============================] - 63s 659ms/step - loss: 0.0307 - accuracy: 0.9918 - val_loss: 0.0255 - val_accuracy: 0.9961\n",
      "Epoch 20/20\n",
      "95/95 [==============================] - 52s 544ms/step - loss: 0.0340 - accuracy: 0.9898 - val_loss: 0.0249 - val_accuracy: 0.9961\n"
     ]
    }
   ]
  },
  {
   "cell_type": "code",
   "source": [
    "for layer in model.layers:\n",
    "  print(layer.name, layer.trainable)"
   ],
   "metadata": {
    "colab": {
     "base_uri": "https://localhost:8080/"
    },
    "id": "AKL-VjfuALdc",
    "outputId": "e857173f-9096-44dd-82bd-4f116aa55001"
   },
   "execution_count": 23,
   "outputs": [
    {
     "output_type": "stream",
     "name": "stdout",
     "text": [
      "input_3 False\n",
      "Conv1 False\n",
      "bn_Conv1 False\n",
      "Conv1_relu False\n",
      "expanded_conv_depthwise False\n",
      "expanded_conv_depthwise_BN False\n",
      "expanded_conv_depthwise_relu False\n",
      "expanded_conv_project False\n",
      "expanded_conv_project_BN False\n",
      "block_1_expand False\n",
      "block_1_expand_BN False\n",
      "block_1_expand_relu False\n",
      "block_1_pad False\n",
      "block_1_depthwise False\n",
      "block_1_depthwise_BN False\n",
      "block_1_depthwise_relu False\n",
      "block_1_project False\n",
      "block_1_project_BN False\n",
      "block_2_expand False\n",
      "block_2_expand_BN False\n",
      "block_2_expand_relu False\n",
      "block_2_depthwise False\n",
      "block_2_depthwise_BN False\n",
      "block_2_depthwise_relu False\n",
      "block_2_project False\n",
      "block_2_project_BN False\n",
      "block_2_add False\n",
      "block_3_expand False\n",
      "block_3_expand_BN False\n",
      "block_3_expand_relu False\n",
      "block_3_pad False\n",
      "block_3_depthwise False\n",
      "block_3_depthwise_BN False\n",
      "block_3_depthwise_relu False\n",
      "block_3_project False\n",
      "block_3_project_BN False\n",
      "block_4_expand False\n",
      "block_4_expand_BN False\n",
      "block_4_expand_relu False\n",
      "block_4_depthwise False\n",
      "block_4_depthwise_BN False\n",
      "block_4_depthwise_relu False\n",
      "block_4_project False\n",
      "block_4_project_BN False\n",
      "block_4_add False\n",
      "block_5_expand False\n",
      "block_5_expand_BN False\n",
      "block_5_expand_relu False\n",
      "block_5_depthwise False\n",
      "block_5_depthwise_BN False\n",
      "block_5_depthwise_relu False\n",
      "block_5_project False\n",
      "block_5_project_BN False\n",
      "block_5_add False\n",
      "block_6_expand False\n",
      "block_6_expand_BN False\n",
      "block_6_expand_relu False\n",
      "block_6_pad False\n",
      "block_6_depthwise False\n",
      "block_6_depthwise_BN False\n",
      "block_6_depthwise_relu False\n",
      "block_6_project False\n",
      "block_6_project_BN False\n",
      "block_7_expand False\n",
      "block_7_expand_BN False\n",
      "block_7_expand_relu False\n",
      "block_7_depthwise False\n",
      "block_7_depthwise_BN False\n",
      "block_7_depthwise_relu False\n",
      "block_7_project False\n",
      "block_7_project_BN False\n",
      "block_7_add False\n",
      "block_8_expand False\n",
      "block_8_expand_BN False\n",
      "block_8_expand_relu False\n",
      "block_8_depthwise False\n",
      "block_8_depthwise_BN False\n",
      "block_8_depthwise_relu False\n",
      "block_8_project False\n",
      "block_8_project_BN False\n",
      "block_8_add False\n",
      "block_9_expand False\n",
      "block_9_expand_BN False\n",
      "block_9_expand_relu False\n",
      "block_9_depthwise False\n",
      "block_9_depthwise_BN False\n",
      "block_9_depthwise_relu False\n",
      "block_9_project False\n",
      "block_9_project_BN False\n",
      "block_9_add False\n",
      "block_10_expand False\n",
      "block_10_expand_BN False\n",
      "block_10_expand_relu False\n",
      "block_10_depthwise False\n",
      "block_10_depthwise_BN False\n",
      "block_10_depthwise_relu False\n",
      "block_10_project False\n",
      "block_10_project_BN False\n",
      "block_11_expand False\n",
      "block_11_expand_BN False\n",
      "block_11_expand_relu False\n",
      "block_11_depthwise False\n",
      "block_11_depthwise_BN False\n",
      "block_11_depthwise_relu False\n",
      "block_11_project False\n",
      "block_11_project_BN False\n",
      "block_11_add False\n",
      "block_12_expand False\n",
      "block_12_expand_BN False\n",
      "block_12_expand_relu False\n",
      "block_12_depthwise False\n",
      "block_12_depthwise_BN False\n",
      "block_12_depthwise_relu False\n",
      "block_12_project False\n",
      "block_12_project_BN False\n",
      "block_12_add False\n",
      "block_13_expand False\n",
      "block_13_expand_BN False\n",
      "block_13_expand_relu False\n",
      "block_13_pad False\n",
      "block_13_depthwise False\n",
      "block_13_depthwise_BN False\n",
      "block_13_depthwise_relu False\n",
      "block_13_project False\n",
      "block_13_project_BN False\n",
      "block_14_expand False\n",
      "block_14_expand_BN False\n",
      "block_14_expand_relu False\n",
      "block_14_depthwise False\n",
      "block_14_depthwise_BN False\n",
      "block_14_depthwise_relu False\n",
      "block_14_project False\n",
      "block_14_project_BN False\n",
      "block_14_add False\n",
      "block_15_expand False\n",
      "block_15_expand_BN False\n",
      "block_15_expand_relu False\n",
      "block_15_depthwise False\n",
      "block_15_depthwise_BN False\n",
      "block_15_depthwise_relu False\n",
      "block_15_project False\n",
      "block_15_project_BN False\n",
      "block_15_add False\n",
      "block_16_expand False\n",
      "block_16_expand_BN False\n",
      "block_16_expand_relu False\n",
      "block_16_depthwise False\n",
      "block_16_depthwise_BN False\n",
      "block_16_depthwise_relu False\n",
      "block_16_project False\n",
      "block_16_project_BN False\n",
      "Conv_1 False\n",
      "Conv_1_bn False\n",
      "out_relu False\n",
      "average_pooling2d True\n",
      "flatten True\n",
      "dense True\n",
      "dropout True\n",
      "dense_1 True\n"
     ]
    }
   ]
  },
  {
   "cell_type": "code",
   "source": [
    "predections = model.predict(X_test, batch_size= bs)\n",
    "\n",
    "predections = np.argmax(predections, axis = 1)"
   ],
   "metadata": {
    "id": "226W-HpuCIwO"
   },
   "execution_count": 24,
   "outputs": []
  },
  {
   "cell_type": "code",
   "source": [
    "print(classification_report(y_test.argmax(axis=1), predections, target_names=lb.classes_))"
   ],
   "metadata": {
    "colab": {
     "base_uri": "https://localhost:8080/"
    },
    "id": "4iXlviKyCZCZ",
    "outputId": "b8ccd106-1c0e-4c5f-86a0-725ab1a7a29a"
   },
   "execution_count": 25,
   "outputs": [
    {
     "output_type": "stream",
     "name": "stdout",
     "text": [
      "              precision    recall  f1-score   support\n",
      "\n",
      "   with_mask       0.99      1.00      1.00       383\n",
      "without_mask       1.00      0.99      1.00       384\n",
      "\n",
      "    accuracy                           1.00       767\n",
      "   macro avg       1.00      1.00      1.00       767\n",
      "weighted avg       1.00      1.00      1.00       767\n",
      "\n"
     ]
    }
   ]
  },
  {
   "cell_type": "code",
   "source": [
    "model.save('mask_detector.model', save_format='h5')"
   ],
   "metadata": {
    "id": "vjPoe5IpDOTx"
   },
   "execution_count": 26,
   "outputs": []
  },
  {
   "cell_type": "code",
   "source": [
    "plt.style.use('ggplot')\n",
    "plt.figure()\n",
    "plt.plot(np.arange(epochs), history.history['loss'], label = 'train_loss')\n",
    "plt.plot(np.arange(epochs), history.history['val_loss'], label = 'val_loss')\n",
    "plt.plot(np.arange(epochs), history.history['accuracy'], label = 'train_acc')\n",
    "plt.plot(np.arange(epochs), history.history['val_accuracy'], label = 'val_acc')\n",
    "plt.title('Training loss and accuracy')\n",
    "plt.xlabel('epoch')\n",
    "plt.ylabel('loss/accuracy')\n",
    "plt.legend(loc='center')\n",
    "plt.show()"
   ],
   "metadata": {
    "colab": {
     "base_uri": "https://localhost:8080/",
     "height": 299
    },
    "id": "lwaCISqwDbwk",
    "outputId": "6501e702-7728-41af-bbe3-479aa80c2ab6"
   },
   "execution_count": 29,
   "outputs": [
    {
     "output_type": "display_data",
     "data": {
      "text/plain": [
       "<Figure size 432x288 with 1 Axes>"
      ],
      "image/png": "[encoded data removed]"
     },
     "metadata": {}
    }
   ]
  },
  {
   "cell_type": "code",
   "source": [],
   "metadata": {
    "id": "hGog0GxjEf0Q"
   },
   "execution_count": null,
   "outputs": []
  }
 ]
}
