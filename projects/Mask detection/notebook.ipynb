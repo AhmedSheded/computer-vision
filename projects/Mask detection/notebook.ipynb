{
 "cells": [
  {
   "cell_type": "code",
   "execution_count": 1,
   "metadata": {
    "collapsed": true
   },
   "outputs": [
    {
     "name": "stderr",
     "output_type": "stream",
     "text": [
      "2022-10-08 09:55:09.318414: W tensorflow/stream_executor/platform/default/dso_loader.cc:64] Could not load dynamic library 'libcudart.so.11.0'; dlerror: libcudart.so.11.0: cannot open shared object file: No such file or directory\n",
      "2022-10-08 09:55:09.318476: I tensorflow/stream_executor/cuda/cudart_stub.cc:29] Ignore above cudart dlerror if you do not have a GPU set up on your machine.\n"
     ]
    }
   ],
   "source": [
    "from keras.applications.mobilenet_v2 import preprocess_input\n",
    "from keras.utils import img_to_array\n",
    "from keras.models import load_model\n",
    "import numpy as np\n",
    "import imutils\n",
    "import time\n",
    "import cv2 as cv\n",
    "import os"
   ]
  },
  {
   "cell_type": "code",
   "execution_count": 2,
   "outputs": [],
   "source": [
    "os.chdir('../../data/Face-Mask-Detection')"
   ],
   "metadata": {
    "collapsed": false
   }
  },
  {
   "cell_type": "code",
   "execution_count": 3,
   "outputs": [],
   "source": [
    "def detect_mask(frame, faceNet, maskNet):\n",
    "    h, w = frame.shape[:2]\n",
    "    blob = cv.dnn.blobFromImage(frame, 1.0, (224, 224), (104.0, 177.0, 123.0))\n",
    "\n",
    "    faceNet.setInput(blob)\n",
    "    detections = faceNet.forward()\n",
    "\n",
    "    faces = []\n",
    "    locs = []\n",
    "    preds = []\n",
    "\n",
    "    for i in range(detections.shape[2]):\n",
    "        confidence = detections[0, 0, i, 2]\n",
    "        if confidence > 0.5:\n",
    "            box = detections[0, 0, i, 3:7] * np.array([w, h, w, h])\n",
    "            startx, starty, endx, endy = box.astype('int')\n",
    "\n",
    "            startx, starty = max(0, startx), max(0, starty)\n",
    "            endx, endy = min(w-1, endx), min(h-1, endy)\n",
    "\n",
    "            face = frame[starty:endy, startx:endx]\n",
    "            face = cv.cvtColor(face, cv.COLOR_BGR2RGB)\n",
    "            face = cv.resize(face, (224, 224))\n",
    "            face = img_to_array(face)\n",
    "            face = preprocess_input(face)\n",
    "\n",
    "            faces.append(face)\n",
    "            locs.append((startx, starty, endx, endy))\n",
    "    if len(faces)>0:\n",
    "        faces = np.array(faces, dtype='float32')\n",
    "        preds = maskNet.predict(faces, batch_size=32, verbose=0)\n",
    "    return locs, preds"
   ],
   "metadata": {
    "collapsed": false
   }
  },
  {
   "cell_type": "code",
   "execution_count": 4,
   "outputs": [
    {
     "name": "stderr",
     "output_type": "stream",
     "text": [
      "2022-10-08 09:55:13.621464: E tensorflow/stream_executor/cuda/cuda_driver.cc:271] failed call to cuInit: CUDA_ERROR_UNKNOWN: unknown error\n",
      "2022-10-08 09:55:13.621541: I tensorflow/stream_executor/cuda/cuda_diagnostics.cc:169] retrieving CUDA diagnostic information for host: sheded-Latitude-E6520\n",
      "2022-10-08 09:55:13.621554: I tensorflow/stream_executor/cuda/cuda_diagnostics.cc:176] hostname: sheded-Latitude-E6520\n",
      "2022-10-08 09:55:13.622128: I tensorflow/stream_executor/cuda/cuda_diagnostics.cc:200] libcuda reported version is: 390.154.0\n",
      "2022-10-08 09:55:13.622210: I tensorflow/stream_executor/cuda/cuda_diagnostics.cc:204] kernel reported version is: 390.154.0\n",
      "2022-10-08 09:55:13.622221: I tensorflow/stream_executor/cuda/cuda_diagnostics.cc:310] kernel version seems to match DSO: 390.154.0\n"
     ]
    }
   ],
   "source": [
    "prototxtPath = 'face_detector/deploy.prototxt'\n",
    "weightsPath = 'face_detector/res10_300x300_ssd_iter_140000.caffemodel'\n",
    "\n",
    "faceNet = cv.dnn.readNet(prototxtPath, weightsPath)\n",
    "maskNet = load_model('mask_detector.model')"
   ],
   "metadata": {
    "collapsed": false
   }
  },
  {
   "cell_type": "code",
   "execution_count": null,
   "outputs": [],
   "source": [
    "cap = cv.VideoCapture(1)\n",
    "fourcc = cv.VideoWriter_fourcc(*'MP4V')\n",
    "writer = cv.VideoWriter('mask_detection.mp4', fourcc, 30, (400, 300))\n",
    "while cap.isOpened():\n",
    "    ret, frame = cap.read()\n",
    "    if ret:\n",
    "        locs, preds = detect_mask(frame, faceNet, maskNet)\n",
    "\n",
    "        for box, pred in zip(locs, preds):\n",
    "            startx, starty, endx, endy = box\n",
    "            mask, withoutMask = pred\n",
    "\n",
    "            label = 'Mask' if mask > withoutMask else 'No Mask'\n",
    "            color = (0, 255, 0) if label == 'Mask' else (0, 0, 255)\n",
    "\n",
    "            label = '{}: {:.2f}%'.format(label, max(mask, withoutMask) * 100)\n",
    "\n",
    "            cv.putText(frame, label, (startx, starty-10), cv.FONT_HERSHEY_SIMPLEX, 0.45, color, 2)\n",
    "            cv.rectangle(frame, (startx, starty), (endx, endy), color, 2)\n",
    "        writer.write(frame)\n",
    "        cv.imshow('frame', frame)\n",
    "        if cv.waitKey(20) ==27:\n",
    "            break\n",
    "    else:\n",
    "        break\n",
    "writer.release()\n",
    "cap.release()\n",
    "cv.destroyAllWindows()"
   ],
   "metadata": {
    "collapsed": false,
    "pycharm": {
     "is_executing": true
    }
   }
  },
  {
   "cell_type": "code",
   "execution_count": 5,
   "outputs": [],
   "source": [],
   "metadata": {
    "collapsed": false
   }
  }
 ],
 "metadata": {
  "kernelspec": {
   "display_name": "Python 3",
   "language": "python",
   "name": "python3"
  },
  "language_info": {
   "codemirror_mode": {
    "name": "ipython",
    "version": 2
   },
   "file_extension": ".py",
   "mimetype": "text/x-python",
   "name": "python",
   "nbconvert_exporter": "python",
   "pygments_lexer": "ipython2",
   "version": "2.7.6"
  }
 },
 "nbformat": 4,
 "nbformat_minor": 0
}
