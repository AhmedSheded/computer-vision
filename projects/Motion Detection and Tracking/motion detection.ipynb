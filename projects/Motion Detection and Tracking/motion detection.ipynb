{
 "cells": [
  {
   "cell_type": "code",
   "execution_count": 1,
   "metadata": {
    "collapsed": true
   },
   "outputs": [],
   "source": [
    "import cv2 as cv\n",
    "import numpy as np\n",
    "import os\n",
    "os.chdir('../../data')"
   ]
  },
  {
   "cell_type": "code",
   "execution_count": null,
   "outputs": [],
   "source": [
    "cap = cv.VideoCapture('vtest.mp4')\n",
    "\n",
    "width = int(cap.get(cv.CAP_PROP_FRAME_WIDTH))\n",
    "height = int(cap.get(cv.CAP_PROP_FRAME_HEIGHT))\n",
    "\n",
    "fourcc = cv.VideoWriter_fourcc('X', 'V', 'I', 'D')\n",
    "\n",
    "outVideo = cv.VideoWriter('motionOut.avi', fourcc, 30, (width, height))\n",
    "\n",
    "_, frame1 = cap.read()\n",
    "_, frame2 = cap.read()\n",
    "\n",
    "while cap.isOpened():\n",
    "    diff = cv.absdiff(frame1, frame2)\n",
    "    gray = cv.cvtColor(diff, cv.COLOR_BGR2GRAY)\n",
    "\n",
    "    # remove noise\n",
    "    blurFrame = cv.GaussianBlur(gray, (5, 5), 0)\n",
    "\n",
    "    # apply threshold to get the contoures\n",
    "    _, thresh = cv.threshold(blurFrame, 60, 255, cv.THRESH_BINARY)\n",
    "    dilated = cv.dilate(thresh, None, iterations=10)\n",
    "\n",
    "    contours, _ = cv.findContours(dilated, cv.RETR_TREE, cv.CHAIN_APPROX_NONE)\n",
    "    # draw = cv.drawContours(frame2, contours, -1, (0, 255, 0), 2)\n",
    "\n",
    "    for contour in contours:\n",
    "        # get the dimensions for the contour\n",
    "        x, y, w, h = cv.boundingRect(contour)\n",
    "        if cv.contourArea(contour) > 900:\n",
    "            cv.rectangle(frame1, (x, y), (x+w, y+h), (0, 255, 0), 2)\n",
    "            cv.putText(frame1, 'Status: {}'.format('Movement'), (10, 20), cv.FONT_HERSHEY_SIMPLEX, 1, (0, 0, 255), 3)\n",
    "\n",
    "    image = cv.resize(frame1, (width, height))\n",
    "    outVideo.write(image)\n",
    "    cv.imshow('motion detection', image)\n",
    "\n",
    "    frame1 = frame2\n",
    "    try:\n",
    "        _, frame2 = cap.read()\n",
    "    except:\n",
    "        break\n",
    "\n",
    "    if cv.waitKey(60) == 27:\n",
    "        break\n",
    "\n",
    "cv.destroyAllWindows()\n",
    "cap.release()\n",
    "outVideo.release()"
   ],
   "metadata": {
    "collapsed": false,
    "pycharm": {
     "is_executing": true
    }
   }
  },
  {
   "cell_type": "code",
   "execution_count": 2,
   "outputs": [],
   "source": [],
   "metadata": {
    "collapsed": false
   }
  }
 ],
 "metadata": {
  "kernelspec": {
   "display_name": "Python 3",
   "language": "python",
   "name": "python3"
  },
  "language_info": {
   "codemirror_mode": {
    "name": "ipython",
    "version": 2
   },
   "file_extension": ".py",
   "mimetype": "text/x-python",
   "name": "python",
   "nbconvert_exporter": "python",
   "pygments_lexer": "ipython2",
   "version": "2.7.6"
  }
 },
 "nbformat": 4,
 "nbformat_minor": 0
}
