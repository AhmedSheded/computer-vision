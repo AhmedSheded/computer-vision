{
 "cells": [
  {
   "cell_type": "code",
   "execution_count": 1,
   "metadata": {
    "collapsed": true
   },
   "outputs": [],
   "source": [
    "import cv2 as cv\n",
    "import dlib\n",
    "import numpy as np\n",
    "import os\n",
    "os.chdir('../../data')"
   ]
  },
  {
   "cell_type": "code",
   "execution_count": 2,
   "outputs": [],
   "source": [
    "detector = dlib.get_frontal_face_detector()\n",
    "predictor = dlib.shape_predictor('shape_predictor_68_face_landmarks.dat')"
   ],
   "metadata": {
    "collapsed": false
   }
  },
  {
   "cell_type": "code",
   "execution_count": null,
   "outputs": [],
   "source": [
    "cap = cv.VideoCapture(0)\n",
    "width = int(cap.get(cv.CAP_PROP_FRAME_WIDTH))\n",
    "height = int(cap.get(cv.CAP_PROP_FRAME_HEIGHT))\n",
    "forcc = cv.VideoWriter_fourcc(*'MP4V')\n",
    "writer = cv.VideoWriter('landmarks.mp4', forcc, 30, (width, height))\n",
    "\n",
    "while cap.isOpened():\n",
    "    ret, frame = cap.read()\n",
    "    black = np.zeros_like(frame, np.uint8)\n",
    "    frame = cv.flip(frame, 1)\n",
    "    if ret:\n",
    "        grey = cv.cvtColor(frame, cv.COLOR_BGR2GRAY)\n",
    "        faces = detector(grey)\n",
    "        for face in faces:\n",
    "            x1, y1, x2, y2 = face.left(), face.top(), face.right(), face.bottom()\n",
    "            # cv.rectangle(frame, (x1, y1), (x2, y2), (100, 200, 100), 2)\n",
    "            landmarks = predictor(grey, face)\n",
    "            for n in range(68):\n",
    "                x = landmarks.part(n).x\n",
    "                y = landmarks.part(n).y\n",
    "                cv.circle(black, (x, y), 3, (255, 0, 100), -1)\n",
    "                cv.circle(frame, (x, y), 3, (255, 0, 100), -1)\n",
    "\n",
    "    writer.write(frame)\n",
    "    cv.imshow(\"landmarks\", black)\n",
    "    cv.imshow('myface', frame)\n",
    "    if cv.waitKey(1) == 27:\n",
    "        break\n",
    "writer.release()\n",
    "cap.release()\n",
    "cv.destroyAllWindows()"
   ],
   "metadata": {
    "collapsed": false,
    "pycharm": {
     "is_executing": true
    }
   }
  },
  {
   "cell_type": "code",
   "execution_count": 3,
   "outputs": [],
   "source": [],
   "metadata": {
    "collapsed": false
   }
  }
 ],
 "metadata": {
  "kernelspec": {
   "display_name": "Python 3",
   "language": "python",
   "name": "python3"
  },
  "language_info": {
   "codemirror_mode": {
    "name": "ipython",
    "version": 2
   },
   "file_extension": ".py",
   "mimetype": "text/x-python",
   "name": "python",
   "nbconvert_exporter": "python",
   "pygments_lexer": "ipython2",
   "version": "2.7.6"
  }
 },
 "nbformat": 4,
 "nbformat_minor": 0
}
