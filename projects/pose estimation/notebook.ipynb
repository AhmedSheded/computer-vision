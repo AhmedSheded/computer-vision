{
 "cells": [
  {
   "cell_type": "markdown",
   "source": [
    "<img src=\"https://mediapipe.dev/images/mobile/pose_tracking_full_body_landmarks.png\" width=1200 height=600>"
   ],
   "metadata": {
    "collapsed": false
   }
  },
  {
   "cell_type": "code",
   "execution_count": 1,
   "outputs": [],
   "source": [
    "import cv2 as cv\n",
    "import mediapipe as mp\n",
    "import numpy as np\n",
    "import os\n",
    "os.chdir('../../data')"
   ],
   "metadata": {
    "collapsed": false
   }
  },
  {
   "cell_type": "code",
   "execution_count": 2,
   "outputs": [],
   "source": [
    "drawing = mp.solutions.drawing_utils\n",
    "mp_pose = mp.solutions.pose\n",
    "drawing_styles = mp.solutions.drawing_styles"
   ],
   "metadata": {
    "collapsed": false
   }
  },
  {
   "cell_type": "code",
   "execution_count": 11,
   "outputs": [
    {
     "name": "stderr",
     "output_type": "stream",
     "text": [
      "OpenCV: FFMPEG: tag 0x5634504d/'MP4V' is not supported with codec id 12 and format 'mp4 / MP4 (MPEG-4 Part 14)'\n",
      "OpenCV: FFMPEG: fallback to use tag 0x7634706d/'mp4v'\n"
     ]
    }
   ],
   "source": [
    "cap = cv.VideoCapture('dd.mp4')\n",
    "width = int(cap.get(cv.CAP_PROP_FRAME_WIDTH))\n",
    "height = int(cap.get(cv.CAP_PROP_FRAME_HEIGHT))\n",
    "forcc = cv.VideoWriter_fourcc(*'MP4V')\n",
    "writer = cv.VideoWriter('b.mp4', forcc, 30, (width, height))\n",
    "pose =  mp_pose.Pose(min_detection_confidence=0.5, min_tracking_confidence=0.5)\n",
    "# with mp_pose.Pose(min_detection_confidence=0.5, min_tracking_confidence=0.5) as pose:\n",
    "while cap.isOpened():\n",
    "    ret, frame = cap.read()\n",
    "    if ret:\n",
    "        rgbFrame = cv.cvtColor(frame, cv.COLOR_BGR2RGB)\n",
    "\n",
    "        # make detection\n",
    "        resluts = pose.process(rgbFrame)\n",
    "\n",
    "        drawing.draw_landmarks(frame, resluts.pose_landmarks, mp_pose.POSE_CONNECTIONS,\n",
    "                               landmark_drawing_spec=drawing_styles.get_default_pose_landmarks_style())\n",
    "\n",
    "        writer.write(frame)\n",
    "        cv.imshow('frame', frame)\n",
    "\n",
    "        if cv.waitKey(30) == 27:\n",
    "            break\n",
    "    else:\n",
    "        break\n",
    "cap.release()\n",
    "cv.destroyAllWindows()"
   ],
   "metadata": {
    "collapsed": false
   }
  },
  {
   "cell_type": "code",
   "execution_count": 3,
   "outputs": [],
   "source": [],
   "metadata": {
    "collapsed": false
   }
  }
 ],
 "metadata": {
  "kernelspec": {
   "display_name": "Python 3",
   "language": "python",
   "name": "python3"
  },
  "language_info": {
   "codemirror_mode": {
    "name": "ipython",
    "version": 2
   },
   "file_extension": ".py",
   "mimetype": "text/x-python",
   "name": "python",
   "nbconvert_exporter": "python",
   "pygments_lexer": "ipython2",
   "version": "2.7.6"
  }
 },
 "nbformat": 4,
 "nbformat_minor": 0
}
