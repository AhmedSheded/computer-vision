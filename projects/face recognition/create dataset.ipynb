{
 "cells": [
  {
   "cell_type": "code",
   "execution_count": 1,
   "metadata": {
    "collapsed": true
   },
   "outputs": [],
   "source": [
    "import cv2 as cv\n",
    "import os"
   ]
  },
  {
   "cell_type": "code",
   "execution_count": 2,
   "outputs": [],
   "source": [
    "os.chdir('../../data/face recognition')"
   ],
   "metadata": {
    "collapsed": false
   }
  },
  {
   "cell_type": "code",
   "execution_count": 7,
   "outputs": [],
   "source": [
    "output_folder = 'dataset/mahmoud'\n",
    "if not os.path.exists(output_folder): os.makedirs(output_folder)\n",
    "\n",
    "face_casecade = cv.CascadeClassifier('../cascades/haarcascade_frontalface_default.xml')\n",
    "eye_cascade = cv.CascadeClassifier('../cascades/haarcascade_eye.xml')"
   ],
   "metadata": {
    "collapsed": false
   }
  },
  {
   "cell_type": "code",
   "execution_count": null,
   "outputs": [],
   "source": [
    "cap = cv.VideoCapture(0)\n",
    "count = 0\n",
    "\n",
    "while cap.isOpened() and count<301:\n",
    "    ret, frame = cap.read()\n",
    "    if ret:\n",
    "        gray = cv.cvtColor(frame, cv.COLOR_BGR2GRAY)\n",
    "        faces = face_casecade.detectMultiScale(gray, 1.3, 5, minSize=(120, 120))\n",
    "\n",
    "        for x, y, w, h in faces:\n",
    "            cv.rectangle(frame, (x, y), (x+w, y+h), (255, 0, 0), 2)\n",
    "            face_img = cv.resize(gray[y:y+h, x:x+w], (200, 200))\n",
    "            face_filename = '%s/%d.pgm'% (output_folder, count)\n",
    "            cv.imwrite(face_filename, face_img)\n",
    "            count +=1\n",
    "        cv.imshow('Capturing Faces...', frame)\n",
    "        if cv.waitKey(30) == 27:\n",
    "            break\n",
    "    else:\n",
    "        break\n",
    "cap.release()\n",
    "cv.destroyAllWindows()"
   ],
   "metadata": {
    "collapsed": false,
    "pycharm": {
     "is_executing": true
    }
   }
  },
  {
   "cell_type": "code",
   "execution_count": 4,
   "outputs": [],
   "source": [],
   "metadata": {
    "collapsed": false
   }
  }
 ],
 "metadata": {
  "kernelspec": {
   "display_name": "Python 3",
   "language": "python",
   "name": "python3"
  },
  "language_info": {
   "codemirror_mode": {
    "name": "ipython",
    "version": 2
   },
   "file_extension": ".py",
   "mimetype": "text/x-python",
   "name": "python",
   "nbconvert_exporter": "python",
   "pygments_lexer": "ipython2",
   "version": "2.7.6"
  }
 },
 "nbformat": 4,
 "nbformat_minor": 0
}
