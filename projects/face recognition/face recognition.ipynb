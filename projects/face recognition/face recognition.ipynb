{
 "cells": [
  {
   "cell_type": "code",
   "execution_count": 1,
   "metadata": {
    "collapsed": true
   },
   "outputs": [],
   "source": [
    "import cv2 as cv\n",
    "import numpy as np\n",
    "import os"
   ]
  },
  {
   "cell_type": "code",
   "execution_count": 2,
   "outputs": [],
   "source": [
    "os.chdir('../../data/face recognition')"
   ],
   "metadata": {
    "collapsed": false
   }
  },
  {
   "cell_type": "code",
   "execution_count": 2,
   "outputs": [],
   "source": [],
   "metadata": {
    "collapsed": false
   }
  },
  {
   "cell_type": "code",
   "execution_count": 3,
   "outputs": [],
   "source": [
    "def read_images(path, image_size):\n",
    "    names=[]\n",
    "    training_images, training_labels = [], []\n",
    "    label=0\n",
    "    for dirname, subdirnames, filenames in os.walk(path):\n",
    "        for subdirname in subdirnames:\n",
    "            names.append(subdirname)\n",
    "            subject_path = os.path.join(dirname, subdirname)\n",
    "            for filename in os.listdir(subject_path):\n",
    "                img = cv.imread(os.path.join(subject_path, filename), cv.IMREAD_GRAYSCALE)\n",
    "                if img is None:\n",
    "                    continue\n",
    "                img = cv.resize(img, image_size)\n",
    "                training_images.append(img)\n",
    "                training_labels.append(label)\n",
    "            label+=1\n",
    "    training_images = np.asarray(training_images, np.uint8)\n",
    "    training_labels = np.asarray(training_labels, np.int32)\n",
    "    return names, training_images, training_labels"
   ],
   "metadata": {
    "collapsed": false
   }
  },
  {
   "cell_type": "code",
   "execution_count": 4,
   "outputs": [],
   "source": [
    "path = 'dataset'\n",
    "size = (200, 200)\n",
    "names, training_images, training_labels = read_images(path, size)"
   ],
   "metadata": {
    "collapsed": false
   }
  },
  {
   "cell_type": "code",
   "execution_count": 6,
   "outputs": [],
   "source": [
    "face_cascade = cv.CascadeClassifier('../cascades/haarcascade_frontalface_default.xml')"
   ],
   "metadata": {
    "collapsed": false
   }
  },
  {
   "cell_type": "markdown",
   "source": [
    "### Performing face recognition with Eigenfaces"
   ],
   "metadata": {
    "collapsed": false
   }
  },
  {
   "cell_type": "code",
   "execution_count": 5,
   "outputs": [],
   "source": [
    "model = cv.face.EigenFaceRecognizer_create()\n",
    "model.train(training_images, training_labels)"
   ],
   "metadata": {
    "collapsed": false
   }
  },
  {
   "cell_type": "code",
   "execution_count": null,
   "outputs": [],
   "source": [
    "cap = cv.VideoCapture(0)\n",
    "\n",
    "while cap.isOpened():\n",
    "    ret, frame = cap.read()\n",
    "    if ret:\n",
    "        faces = face_cascade.detectMultiScale(frame, 1.3, 5)\n",
    "        for x, y, w, h in faces:\n",
    "            cv.rectangle(frame, (x, y), (x+w, y+h), (0, 255, 0), 2)\n",
    "            gray = cv.cvtColor(frame, cv.COLOR_BGR2GRAY)\n",
    "            roi_gray = gray[x:x+w, y:y+h]\n",
    "            if roi_gray.size == 0: continue\n",
    "            roi_gray = cv.resize(roi_gray, size)\n",
    "            label, confidence = model.predict(roi_gray)\n",
    "            # text = '%s, confidence=%.2f' % (names[label], confidence)\n",
    "            text1 = names[label]\n",
    "            text2 = 'confidence=%.2f' % confidence\n",
    "            cv.putText(frame, text1, (x, y-25), cv.FONT_HERSHEY_SIMPLEX, 0.5, (0, 255, 255), 2)\n",
    "            cv.putText(frame, text2, (x, y-10), cv.FONT_HERSHEY_SIMPLEX, 0.5, (100, 100, 0), 2)\n",
    "        cv.imshow('face recognition', frame)\n",
    "        if cv.waitKey(30) == 27:\n",
    "            break\n",
    "    else:\n",
    "        break\n",
    "cap.release()\n",
    "cv.destroyAllWindows()"
   ],
   "metadata": {
    "collapsed": false
   }
  },
  {
   "cell_type": "code",
   "execution_count": 8,
   "outputs": [],
   "source": [
    "model.save('amn.h5')"
   ],
   "metadata": {
    "collapsed": false
   }
  },
  {
   "cell_type": "markdown",
   "source": [
    "### Performing face recognition with Fisherfaces"
   ],
   "metadata": {
    "collapsed": false
   }
  },
  {
   "cell_type": "code",
   "execution_count": 7,
   "outputs": [],
   "source": [
    "Fisherfaces = cv.face.FisherFaceRecognizer_create()\n",
    "Fisherfaces.train(training_images, training_labels)"
   ],
   "metadata": {
    "collapsed": false
   }
  },
  {
   "cell_type": "code",
   "execution_count": null,
   "outputs": [],
   "source": [
    "cap = cv.VideoCapture(0)\n",
    "\n",
    "while cap.isOpened():\n",
    "    ret, frame = cap.read()\n",
    "    if ret:\n",
    "        faces = face_cascade.detectMultiScale(frame, 1.3, 5)\n",
    "        for x, y, w, h in faces:\n",
    "            cv.rectangle(frame, (x, y), (x+w, y+h), (0, 255, 0), 2)\n",
    "            gray = cv.cvtColor(frame, cv.COLOR_BGR2GRAY)\n",
    "            roi_gray = gray[x:x+w, y:y+h]\n",
    "            if roi_gray.size == 0: continue\n",
    "            roi_gray = cv.resize(roi_gray, size)\n",
    "            label, confidence = Fisherfaces.predict(roi_gray)\n",
    "            name = names[label]\n",
    "            confidenc_e = 'confidence=%.2f' % confidence\n",
    "            cv.putText(frame, name, (x, y-25), cv.FONT_HERSHEY_SIMPLEX, 0.5, (0, 255, 255), 2)\n",
    "            cv.putText(frame, confidenc_e, (x, y-10), cv.FONT_HERSHEY_SIMPLEX, 0.5, (100, 100, 0), 2)\n",
    "        cv.imshow('face recognition', frame)\n",
    "        if cv.waitKey(30) == 27:\n",
    "            break\n",
    "    else:\n",
    "        break\n",
    "cap.release()\n",
    "cv.destroyAllWindows()"
   ],
   "metadata": {
    "collapsed": false,
    "pycharm": {
     "is_executing": true
    }
   }
  },
  {
   "cell_type": "code",
   "execution_count": null,
   "outputs": [],
   "source": [],
   "metadata": {
    "collapsed": false
   }
  }
 ],
 "metadata": {
  "kernelspec": {
   "display_name": "Python 3",
   "language": "python",
   "name": "python3"
  },
  "language_info": {
   "codemirror_mode": {
    "name": "ipython",
    "version": 2
   },
   "file_extension": ".py",
   "mimetype": "text/x-python",
   "name": "python",
   "nbconvert_exporter": "python",
   "pygments_lexer": "ipython2",
   "version": "2.7.6"
  }
 },
 "nbformat": 4,
 "nbformat_minor": 0
}
