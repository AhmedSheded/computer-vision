{
 "cells": [
  {
   "cell_type": "code",
   "execution_count": 1,
   "metadata": {
    "collapsed": true
   },
   "outputs": [],
   "source": [
    "import cv2 as cv\n",
    "import time\n",
    "import os\n",
    "os.chdir('../../data')"
   ]
  },
  {
   "cell_type": "code",
   "execution_count": 2,
   "outputs": [],
   "source": [
    "#line 1\n",
    "ax1 = 684\n",
    "ay = 420\n",
    "ax2 = 960\n",
    "\n",
    "#line 2\n",
    "bx1=713\n",
    "by=480\n",
    "bx2=1140"
   ],
   "metadata": {
    "collapsed": false
   }
  },
  {
   "cell_type": "code",
   "execution_count": 3,
   "outputs": [],
   "source": [
    "def speed_calc(time):\n",
    "    try:\n",
    "        speed = (9/1000)/(time/3600)\n",
    "        return speed\n",
    "    except ZeroDivisionError:\n",
    "        print('Can not devide by zero')"
   ],
   "metadata": {
    "collapsed": false
   }
  },
  {
   "cell_type": "code",
   "execution_count": 5,
   "outputs": [
    {
     "name": "stdout",
     "output_type": "stream",
     "text": [
      "Car Number 1 speed 136.7937054669487 KM/H \n",
      "Car Number 2 speed 80.3773753640525 KM/H \n",
      "Car Number 3 speed 74.1824204506918 KM/H \n",
      "Car Number 4 speed 73.06270131625654 KM/H \n",
      "Car Number 5 speed 383.62536585365854 KM/H \n",
      "Car Number 6 speed 364.1310922256775 KM/H \n",
      "Car Number 7 speed 346.55962792479727 KM/H \n",
      "Car Number 8 speed 328.63066117914883 KM/H \n",
      "Car Number 9 speed 194.88881672455014 KM/H \n",
      "Car Number 10 speed 99.66792790788386 KM/H \n",
      "Car Number 11 speed 98.2974340385857 KM/H \n",
      "Car Number 12 speed 97.02178801078969 KM/H \n",
      "Car Number 13 speed 84.20846117770722 KM/H \n",
      "Car Number 14 speed 83.24141837688794 KM/H \n"
     ]
    }
   ],
   "source": [
    "# car counter\n",
    "i = 1\n",
    "start_time = time.time()\n",
    "\n",
    "cap = cv.VideoCapture('road0.mp4')\n",
    "car_cascade = cv.CascadeClassifier('cascades/cars.xml')\n",
    "\n",
    "while cap.isOpened():\n",
    "    ret, frame = cap.read()\n",
    "    if ret:\n",
    "        blurred = cv.blur(frame, ksize=(15, 15))\n",
    "        grey = cv.cvtColor(blurred, cv.COLOR_BGR2GRAY)\n",
    "        cars = car_cascade.detectMultiScale(grey, 1.1, 2)\n",
    "\n",
    "        cv.line(frame, (ax1, ay), (ax2, ay), (255, 0, 0), 2)\n",
    "        cv.line(frame, (bx1, by), (bx2, by), (255, 0, 0), 2)\n",
    "\n",
    "        for x, y, w, h in cars:\n",
    "            cv.rectangle(frame, (x, y), (x+w, y+h), (0, 255, 0), 2)\n",
    "            cv.circle(frame, (int((x+x+w)/2), int((y+y+h)/2)), 1, (0, 0, 255), -1)\n",
    "\n",
    "            while int(ay) == int((y+y+h)/2):\n",
    "                cv.line(frame, (bx1, by), (bx2, by), (0, 255, 0), 2)\n",
    "                start_time = time.time()\n",
    "                break\n",
    "            while int(ay) <= int((y+y+h)/2):\n",
    "                if int(by) <= int((y+y+h)/2) and int(by+10) >= int((y+y+h)/2):\n",
    "                    cv.line(frame, (ax1, ay), (ax2, ay), (0, 255, 0), 2)\n",
    "                    speed = speed_calc(time.time()-start_time)\n",
    "                    print('Car Number '+str(i)+' speed '+str(speed)+' KM/H ')\n",
    "                    i+=1\n",
    "                    break\n",
    "                else:\n",
    "                    cv.putText(frame, 'Calculating', (100, 200), cv.FONT_HERSHEY_SIMPLEX, 1, (255, 0, 0), 2)\n",
    "                    break\n",
    "        cv.imshow('frame', frame)\n",
    "        if cv.waitKey(1)==27:\n",
    "            break\n",
    "    else:\n",
    "        break\n",
    "cap.release()\n",
    "cv.destroyAllWindows()"
   ],
   "metadata": {
    "collapsed": false
   }
  },
  {
   "cell_type": "code",
   "execution_count": 4,
   "outputs": [],
   "source": [],
   "metadata": {
    "collapsed": false
   }
  }
 ],
 "metadata": {
  "kernelspec": {
   "display_name": "Python 3",
   "language": "python",
   "name": "python3"
  },
  "language_info": {
   "codemirror_mode": {
    "name": "ipython",
    "version": 2
   },
   "file_extension": ".py",
   "mimetype": "text/x-python",
   "name": "python",
   "nbconvert_exporter": "python",
   "pygments_lexer": "ipython2",
   "version": "2.7.6"
  }
 },
 "nbformat": 4,
 "nbformat_minor": 0
}
