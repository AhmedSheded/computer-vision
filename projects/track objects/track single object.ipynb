{
 "cells": [
  {
   "cell_type": "code",
   "execution_count": 1,
   "metadata": {
    "collapsed": true
   },
   "outputs": [],
   "source": [
    "import cv2 as cv\n",
    "import imutils\n",
    "import os"
   ]
  },
  {
   "cell_type": "code",
   "execution_count": 2,
   "outputs": [],
   "source": [
    "os.chdir('../../data')"
   ],
   "metadata": {
    "collapsed": false
   }
  },
  {
   "cell_type": "code",
   "execution_count": 3,
   "outputs": [],
   "source": [
    "trDict = {#'csrt': cv.TrackerCSRT_create,\n",
    "          # 'kcf': cv.TrackerKCF_create,\n",
    "          #  'boosting': cv.TrackerBoosting_create,\n",
    "           'mil': cv.TrackerMIL_create,\n",
    "          # 'tld': cv.TrackerTLD_create,\n",
    "          # 'medianflow': cv.TrackerMedianFlow_create,\n",
    "          # 'mosse': cv.TrackerMOSSE_create,\n",
    "            'dasiam': cv.TrackerDaSiamRPN_create,\n",
    "            'goturn': cv.TrackerGOTURN_create,\n",
    "          'MIL': cv.Tracker\n",
    "            }"
   ],
   "metadata": {
    "collapsed": false
   }
  },
  {
   "cell_type": "code",
   "execution_count": 4,
   "outputs": [],
   "source": [
    "# tracker = trDict['MIL']()\n",
    "tracker = cv.TrackerMIL_create()"
   ],
   "metadata": {
    "collapsed": false
   }
  },
  {
   "cell_type": "code",
   "execution_count": 5,
   "outputs": [],
   "source": [
    "cap = cv.VideoCapture('goal1.mp4')"
   ],
   "metadata": {
    "collapsed": false
   }
  },
  {
   "cell_type": "code",
   "execution_count": null,
   "outputs": [],
   "source": [
    "ret, frame = cap.read()\n",
    "frame = imutils.resize(frame, width=600)\n",
    "cv.imshow('frame', frame)\n",
    "roi = cv.selectROI('frame', frame)\n",
    "tracker.init(frame, roi)\n",
    "cv.waitKey(0)\n",
    "cv.destroyAllWindows()"
   ],
   "metadata": {
    "collapsed": false,
    "pycharm": {
     "is_executing": true
    }
   }
  },
  {
   "cell_type": "code",
   "execution_count": null,
   "outputs": [],
   "source": [
    "while True:\n",
    "    ret, frame = cap.read()\n",
    "    if ret:\n",
    "        frame = imutils.resize(frame, width=600)\n",
    "        success, box = tracker.update(frame)\n",
    "        if success:\n",
    "            x, y, w, h = [int(a) for a in box]\n",
    "            cv.rectangle(frame, (x, y), (x+w, y+h), (100, 255, 0), 2)\n",
    "        cv.imshow('frame', frame)\n",
    "        if cv.waitKey(30) == 27:\n",
    "            break\n",
    "    else:\n",
    "        break\n",
    "cap.release()\n",
    "cv.destroyAllWindows()"
   ],
   "metadata": {
    "collapsed": false,
    "pycharm": {
     "is_executing": true
    }
   }
  }
 ],
 "metadata": {
  "kernelspec": {
   "display_name": "Python 3",
   "language": "python",
   "name": "python3"
  },
  "language_info": {
   "codemirror_mode": {
    "name": "ipython",
    "version": 2
   },
   "file_extension": ".py",
   "mimetype": "text/x-python",
   "name": "python",
   "nbconvert_exporter": "python",
   "pygments_lexer": "ipython2",
   "version": "2.7.6"
  }
 },
 "nbformat": 4,
 "nbformat_minor": 0
}
