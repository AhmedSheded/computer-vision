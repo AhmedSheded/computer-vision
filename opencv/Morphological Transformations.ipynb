{
 "cells": [
  {
   "cell_type": "markdown",
   "source": [
    "### Morphological transformations"
   ],
   "metadata": {
    "collapsed": false
   }
  },
  {
   "cell_type": "code",
   "execution_count": 1,
   "outputs": [],
   "source": [
    "import cv2 as cv\n",
    "import numpy as np\n",
    "import matplotlib.pyplot as plt\n",
    "import os\n",
    "os.chdir('../data')"
   ],
   "metadata": {
    "collapsed": false
   }
  },
  {
   "cell_type": "code",
   "execution_count": null,
   "outputs": [],
   "source": [
    "img = cv.imread('balls.png', 0)\n",
    "\n",
    "_, mask = cv.threshold(img, 220, 255, cv.THRESH_BINARY_INV)\n",
    "\n",
    "kernal = np.ones((5, 5), np.uint8)\n",
    "# dilation = cv.dilate(mask, kernal, iterations=2)\n",
    "# erosion = cv.erode(mask, kernal, iterations=2)\n",
    "# opening = cv.morphologyEx(mask, cv.MORPH_OPEN, kernal, iterations=2) # erosion then >> dilation\n",
    "closing = cv.morphologyEx(mask, cv.MORPH_CLOSE, kernal, iterations=2) # dilation then >> erosion\n",
    "\n",
    "\n",
    "cv.imshow('image', img)\n",
    "cv.imshow('mask', mask)\n",
    "cv.imshow('closing', closing)\n",
    "\n",
    "\n",
    "cv.waitKey()\n",
    "cv.destroyAllWindows()"
   ],
   "metadata": {
    "collapsed": false,
    "pycharm": {
     "is_executing": true
    }
   }
  },
  {
   "cell_type": "code",
   "execution_count": null,
   "outputs": [],
   "source": [],
   "metadata": {
    "collapsed": false
   }
  }
 ],
 "metadata": {
  "kernelspec": {
   "display_name": "Python 3",
   "language": "python",
   "name": "python3"
  },
  "language_info": {
   "codemirror_mode": {
    "name": "ipython",
    "version": 2
   },
   "file_extension": ".py",
   "mimetype": "text/x-python",
   "name": "python",
   "nbconvert_exporter": "python",
   "pygments_lexer": "ipython2",
   "version": "2.7.6"
  }
 },
 "nbformat": 4,
 "nbformat_minor": 0
}
