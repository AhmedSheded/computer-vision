{
 "cells": [
  {
   "cell_type": "code",
   "execution_count": 1,
   "metadata": {
    "collapsed": true
   },
   "outputs": [],
   "source": [
    "import cv2 as cv\n",
    "import numpy as np\n",
    "import os\n",
    "os.chdir('../data')"
   ]
  },
  {
   "cell_type": "markdown",
   "source": [
    "### global thresholding"
   ],
   "metadata": {
    "collapsed": false
   }
  },
  {
   "cell_type": "code",
   "execution_count": null,
   "outputs": [],
   "source": [
    "img = cv.imread('gray.jpg', 0)\n",
    "\n",
    "_, thresh1 = cv.threshold(img, 55, 255, cv.THRESH_BINARY)\n",
    "_, thresh2 = cv.threshold(img, 200, 255, cv.THRESH_BINARY_INV)\n",
    "_, thresh3 = cv.threshold(img, 127, 255, cv.THRESH_TRUNC)\n",
    "_, thresh4 = cv.threshold(img, 127, 255, cv.THRESH_TOZERO)\n",
    "_, thresh5 = cv.threshold(img, 127, 255, cv.THRESH_TOZERO_INV)\n",
    "\n",
    "\n",
    "cv.imshow('image', img)\n",
    "cv.imshow('thresh', thresh1)\n",
    "cv.waitKey()\n",
    "cv.destroyAllWindows()"
   ],
   "metadata": {
    "collapsed": false,
    "pycharm": {
     "is_executing": true
    }
   }
  },
  {
   "cell_type": "markdown",
   "source": [
    "### Adaptive Thresholding"
   ],
   "metadata": {
    "collapsed": false
   }
  },
  {
   "cell_type": "code",
   "execution_count": null,
   "outputs": [],
   "source": [
    "img = cv.imread('sudoku.png', 0)\n",
    "\n",
    "_, thresh = cv.threshold(img, 127, 255, cv.THRESH_BINARY)\n",
    "\n",
    "threshMean = cv.adaptiveThreshold(img, 255, cv.ADAPTIVE_THRESH_MEAN_C, cv.THRESH_BINARY, 99, 4)\n",
    "threshGaussian = cv.adaptiveThreshold(img, 255, cv.ADAPTIVE_THRESH_GAUSSIAN_C, cv.THRESH_BINARY, 11, 2)\n",
    "\n",
    "cv.imshow('image', img)\n",
    "cv.imshow('theshbinary', threshMean)\n",
    "\n",
    "cv.waitKey()\n",
    "cv.destroyAllWindows()"
   ],
   "metadata": {
    "collapsed": false,
    "pycharm": {
     "is_executing": true
    }
   }
  },
  {
   "cell_type": "code",
   "execution_count": null,
   "outputs": [],
   "source": [],
   "metadata": {
    "collapsed": false
   }
  }
 ],
 "metadata": {
  "kernelspec": {
   "display_name": "Python 3",
   "language": "python",
   "name": "python3"
  },
  "language_info": {
   "codemirror_mode": {
    "name": "ipython",
    "version": 2
   },
   "file_extension": ".py",
   "mimetype": "text/x-python",
   "name": "python",
   "nbconvert_exporter": "python",
   "pygments_lexer": "ipython2",
   "version": "2.7.6"
  }
 },
 "nbformat": 4,
 "nbformat_minor": 0
}
