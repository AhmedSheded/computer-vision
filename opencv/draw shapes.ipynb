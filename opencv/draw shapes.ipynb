{
 "cells": [
  {
   "cell_type": "code",
   "execution_count": 2,
   "metadata": {
    "collapsed": true
   },
   "outputs": [],
   "source": [
    "import numpy as np\n",
    "import cv2"
   ]
  },
  {
   "cell_type": "code",
   "execution_count": null,
   "outputs": [],
   "source": [
    "import numpy as np\n",
    "import cv2\n",
    "img = np.zeros([512, 512, 3], np.uint8)\n",
    "\n",
    "# img = cv2.line(img, (0, 0), (256, 256), (0, 255, 0), 10)\n",
    "\n",
    "# img = cv2.arrowedLine(img , (0, 255), (256, 256), (0, 255, 0),3)\n",
    "\n",
    "# img = cv2.rectangle(img, (384, 0), (512, 128), (0, 0, 255), 10)\n",
    "#fill rectangle\n",
    "# img = cv2.rectangle(img, (384, 0), (512, 128), (0, 0, 255), -1)\n",
    "\n",
    "# img = cv2.circle(img, (445, 63), 50, (0, 255, 0), -1)\n",
    "\n",
    "# how to write\n",
    "# font = cv2.FONT_HERSHEY_SIMPLEX\n",
    "# img = cv2.putText(img, 'Ahmed Sheded', (10, 210), font, 2, (0, 255, 255), 5)\n",
    "\n",
    "pts = np.array([[10, 5], [10, 100], [200, 100], [100, 100]], np.int32)\n",
    "img = cv2.polylines(img, [pts], True, (0, 255, 255))\n",
    "\n",
    "cv2.imshow('img', img)\n",
    "cv2.waitKey(5000)\n",
    "cv2.destroyAllWindows"
   ],
   "metadata": {
    "collapsed": false,
    "pycharm": {
     "is_executing": true
    }
   }
  },
  {
   "cell_type": "code",
   "execution_count": null,
   "outputs": [],
   "source": [
    "import cv2\n",
    "img = cv2.imread('../data/me.png', 0)\n",
    "\n",
    "cv2.imshow('ME', img)\n",
    "k = cv2.waitKey()\n",
    "if k == 27:\n",
    "    cv2.destroyAllWindows()\n",
    "elif k == ord('s'):\n",
    "    cv2.imwrite('../data/megray.jpg', img)\n",
    "    cv2.destroyAllWindows()"
   ],
   "metadata": {
    "collapsed": false,
    "pycharm": {
     "is_executing": true
    }
   }
  },
  {
   "cell_type": "code",
   "execution_count": null,
   "outputs": [],
   "source": [],
   "metadata": {
    "collapsed": false
   }
  }
 ],
 "metadata": {
  "kernelspec": {
   "display_name": "Python 3",
   "language": "python",
   "name": "python3"
  },
  "language_info": {
   "codemirror_mode": {
    "name": "ipython",
    "version": 2
   },
   "file_extension": ".py",
   "mimetype": "text/x-python",
   "name": "python",
   "nbconvert_exporter": "python",
   "pygments_lexer": "ipython2",
   "version": "2.7.6"
  }
 },
 "nbformat": 4,
 "nbformat_minor": 0
}
