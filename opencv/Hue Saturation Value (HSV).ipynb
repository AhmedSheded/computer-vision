{
 "cells": [
  {
   "cell_type": "markdown",
   "source": [
    "<img src=\"https://upload.wikimedia.org/wikipedia/commons/4/4e/HSV_color_solid_cylinder.png\" alt=\"drawing\" width=\"500\"/>"
   ],
   "metadata": {
    "collapsed": false
   }
  },
  {
   "cell_type": "code",
   "execution_count": 12,
   "outputs": [],
   "source": [
    "import cv2 as cv\n",
    "import numpy as np\n",
    "import os\n",
    "os.chdir(r'../data')"
   ],
   "metadata": {
    "collapsed": false
   }
  },
  {
   "cell_type": "code",
   "execution_count": null,
   "outputs": [],
   "source": [
    "# while True:\n",
    "frame = cv.imread('balls.jpg')\n",
    "hsv = cv.cvtColor(frame, cv.COLOR_BGR2HSV)\n",
    "#                      h    s   v\n",
    "lowerBlue = np.array([110, 50, 50])\n",
    "upperBlue = np.array([130, 255, 255])\n",
    "\n",
    "mask = cv.inRange(hsv, lowerBlue, upperBlue) # threshold the HSV image\n",
    "\n",
    "result = cv.bitwise_and(frame, frame, mask=mask)\n",
    "\n",
    "cv.imshow('detectiong the blue ball', frame)\n",
    "cv.imshow('mask', mask)\n",
    "cv.imshow('result', result)\n",
    "cv.imshow('hsv', hsv)\n",
    "\n",
    "cv.waitKey()\n",
    "cv.destroyAllWindows()"
   ],
   "metadata": {
    "collapsed": false,
    "pycharm": {
     "is_executing": true
    }
   }
  },
  {
   "cell_type": "markdown",
   "source": [
    "### try with trackbar"
   ],
   "metadata": {
    "collapsed": false
   }
  },
  {
   "cell_type": "code",
   "execution_count": null,
   "outputs": [],
   "source": [
    "def nothing(x):\n",
    "    return x\n",
    "\n",
    "cv.namedWindow('tracking')\n",
    "cv.createTrackbar('LH', 'tracking', 0, 255, nothing)\n",
    "cv.createTrackbar('LS', 'tracking', 0, 255, nothing)\n",
    "cv.createTrackbar('LV', 'tracking', 0, 255, nothing)\n",
    "cv.createTrackbar('UH', 'tracking', 255, 255, nothing)\n",
    "cv.createTrackbar('US', 'tracking', 255, 255, nothing)\n",
    "cv.createTrackbar('UV', 'tracking', 255, 255, nothing)\n",
    "while True:\n",
    "    frame = cv.resize(cv.imread('balls.jpg'), (500, 500))\n",
    "    hsv = cv.cvtColor(frame, cv.COLOR_BGR2HSV)\n",
    "\n",
    "    lower_h = cv.getTrackbarPos('LH', 'tracking')\n",
    "    lower_s = cv.getTrackbarPos('LS', 'tracking')\n",
    "    lower_v = cv.getTrackbarPos('LV', 'tracking')\n",
    "    upper_h = cv.getTrackbarPos('UH', 'tracking')\n",
    "    upper_s = cv.getTrackbarPos('US', 'tracking')\n",
    "    upper_v = cv.getTrackbarPos('UV', 'tracking')\n",
    "\n",
    "    lowerBlue = np.array([lower_h, lower_s, lower_v])\n",
    "    upperBlue = np.array([upper_h, upper_s, upper_v])\n",
    "\n",
    "    mask = cv.inRange(hsv, lowerBlue, upperBlue)\n",
    "\n",
    "    result = cv.bitwise_and(frame, frame, mask=mask)\n",
    "    cv.imshow('frame', frame)\n",
    "    cv.imshow('mask', mask)\n",
    "    cv.imshow('result', result)\n",
    "\n",
    "    k = cv.waitKey(1)\n",
    "    if k == 27:\n",
    "        break\n",
    "cv.destroyAllWindows()\n"
   ],
   "metadata": {
    "collapsed": false,
    "pycharm": {
     "is_executing": true
    }
   }
  },
  {
   "cell_type": "markdown",
   "source": [
    "## try on video"
   ],
   "metadata": {
    "collapsed": false
   }
  },
  {
   "cell_type": "code",
   "execution_count": null,
   "outputs": [],
   "source": [
    "def nothing(x):\n",
    "    pass\n",
    "cap = cv.VideoCapture(0)\n",
    "\n",
    "cv.namedWindow('tracking')\n",
    "cv.createTrackbar('LH', 'tracking', 0, 255, nothing)\n",
    "cv.createTrackbar('LS', 'tracking', 0, 255, nothing)\n",
    "cv.createTrackbar('LV', 'tracking', 0, 255, nothing)\n",
    "cv.createTrackbar('UH', 'tracking', 255, 255, nothing)\n",
    "cv.createTrackbar('US', 'tracking', 255, 255, nothing)\n",
    "cv.createTrackbar('UV', 'tracking', 255, 255, nothing)\n",
    "while cap.isOpened():\n",
    "    _, frame = cap.read()\n",
    "\n",
    "    hsv = cv.cvtColor(frame, cv.COLOR_BGR2HSV)\n",
    "\n",
    "    lower_h = cv.getTrackbarPos('LH', 'tracking')\n",
    "    lower_s = cv.getTrackbarPos('LS', 'tracking')\n",
    "    lower_v = cv.getTrackbarPos('LV', 'tracking')\n",
    "    upper_h = cv.getTrackbarPos('UH', 'tracking')\n",
    "    upper_s = cv.getTrackbarPos('US', 'tracking')\n",
    "    upper_v = cv.getTrackbarPos('UV', 'tracking')\n",
    "\n",
    "    lowerBlue = np.array([lower_h, lower_s, lower_v])\n",
    "    upperBlue = np.array([upper_h, upper_s, upper_v])\n",
    "\n",
    "    mask = cv.inRange(hsv, lowerBlue, upperBlue)\n",
    "\n",
    "    result = cv.bitwise_and(frame, frame, mask=mask)\n",
    "    cv.imshow('frame', frame)\n",
    "    cv.imshow('mask', mask)\n",
    "    cv.imshow('result', result)\n",
    "\n",
    "    k = cv.waitKey(1)\n",
    "    if k == 27:\n",
    "        break\n",
    "\n",
    "cap.release()\n",
    "cv.destroyAllWindows()\n"
   ],
   "metadata": {
    "collapsed": false,
    "pycharm": {
     "is_executing": true
    }
   }
  },
  {
   "cell_type": "code",
   "execution_count": null,
   "outputs": [],
   "source": [],
   "metadata": {
    "collapsed": false
   }
  }
 ],
 "metadata": {
  "kernelspec": {
   "display_name": "Python 3",
   "language": "python",
   "name": "python3"
  },
  "language_info": {
   "codemirror_mode": {
    "name": "ipython",
    "version": 2
   },
   "file_extension": ".py",
   "mimetype": "text/x-python",
   "name": "python",
   "nbconvert_exporter": "python",
   "pygments_lexer": "ipython2",
   "version": "2.7.6"
  }
 },
 "nbformat": 4,
 "nbformat_minor": 0
}
