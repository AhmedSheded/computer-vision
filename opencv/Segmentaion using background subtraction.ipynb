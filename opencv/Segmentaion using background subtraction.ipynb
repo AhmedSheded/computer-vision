{
 "cells": [
  {
   "cell_type": "code",
   "execution_count": 1,
   "metadata": {
    "collapsed": true
   },
   "outputs": [],
   "source": [
    "import cv2 as cv\n",
    "import os\n",
    "import numpy as np\n",
    "os.chdir('../data')"
   ]
  },
  {
   "cell_type": "code",
   "execution_count": null,
   "outputs": [],
   "source": [
    "cap = cv.VideoCapture('road.mp4')\n",
    "\n",
    "_, frame1 = cap.read()\n",
    "grayframe1 = cv.cvtColor(frame1, cv.COLOR_BGR2GRAY)\n",
    "grayframe1 = cv.GaussianBlur(grayframe1, (5, 5), 0)\n",
    "\n",
    "while cap.isOpened():\n",
    "    ret, frame2 = cap.read()\n",
    "    if not ret:\n",
    "        break\n",
    "    grayframe2 = cv.cvtColor(frame2, cv.COLOR_BGR2GRAY)\n",
    "    grayframe2 = cv.GaussianBlur(grayframe2, (5, 5), 0)\n",
    "    difference = cv.absdiff(grayframe1, grayframe2)\n",
    "    _, difference = cv.threshold(difference, 70, 255, cv.THRESH_BINARY)\n",
    "\n",
    "    cv.imshow('firest frame', frame1)\n",
    "    cv.imshow('frame', frame2)\n",
    "    cv.imshow('difference', difference)\n",
    "\n",
    "    k = cv.waitKey(30)\n",
    "    if k == 27:\n",
    "        break\n",
    "cap.release()\n",
    "cv.destroyAllWindows()"
   ],
   "metadata": {
    "collapsed": false
   }
  },
  {
   "cell_type": "markdown",
   "source": [
    "### try with createBackgroundSubtractorMOG2"
   ],
   "metadata": {
    "collapsed": false
   }
  },
  {
   "cell_type": "code",
   "execution_count": null,
   "outputs": [],
   "source": [
    "cap = cv.VideoCapture('road.mp4')\n",
    "\n",
    "subtractor = cv.createBackgroundSubtractorMOG2(history=25, varThreshold=50, detectShadows=False)\n",
    "keranl = np.ones((5, 5), np.uint8)\n",
    "while cap.isOpened():\n",
    "    _, frame = cap.read()\n",
    "    mask = subtractor.apply(frame)\n",
    "\n",
    "    # dilation = cv.dilate(mask, keranl, iterations=2)\n",
    "    # erosion = cv.erode(mask, keranl, iterations=2)\n",
    "    # opening = cv.morphologyEx(mask, cv.MORPH_OPEN, keranl, iterations=4) # erosion then >> dilation\n",
    "    # closing = cv.morphologyEx(mask, cv.MORPH_CLOSE, keranl, iterations=4) # dilation then >> erosion\n",
    "\n",
    "\n",
    "    cv.imshow('frame', frame)\n",
    "    cv.imshow('mask', mask)\n",
    "\n",
    "    k = cv.waitKey(40)\n",
    "    if k == 27:\n",
    "        break\n",
    "cap.release()\n",
    "cv.destroyAllWindows()"
   ],
   "metadata": {
    "collapsed": false,
    "pycharm": {
     "is_executing": true
    }
   }
  },
  {
   "cell_type": "code",
   "execution_count": null,
   "outputs": [],
   "source": [],
   "metadata": {
    "collapsed": false
   }
  }
 ],
 "metadata": {
  "kernelspec": {
   "display_name": "Python 3",
   "language": "python",
   "name": "python3"
  },
  "language_info": {
   "codemirror_mode": {
    "name": "ipython",
    "version": 2
   },
   "file_extension": ".py",
   "mimetype": "text/x-python",
   "name": "python",
   "nbconvert_exporter": "python",
   "pygments_lexer": "ipython2",
   "version": "2.7.6"
  }
 },
 "nbformat": 4,
 "nbformat_minor": 0
}
