{
 "cells": [
  {
   "cell_type": "markdown",
   "source": [
    "<img src='https://theailearner.com/wp-content/uploads/2019/08/Image_pyramid.png' height=500>\n",
    "\n",
    "https://docs.opencv.org/3.4/d4/d1f/tutorial_pyramids.html"
   ],
   "metadata": {
    "collapsed": false
   }
  },
  {
   "cell_type": "code",
   "execution_count": 1,
   "outputs": [],
   "source": [
    "import cv2 as cv\n",
    "import numpy as np\n",
    "import os\n",
    "os.chdir('../data')"
   ],
   "metadata": {
    "collapsed": false
   }
  },
  {
   "cell_type": "code",
   "execution_count": null,
   "outputs": [],
   "source": [
    "img = cv.imread('lenna.png')\n",
    "\n",
    "lr1 = cv.pyrDown(img)\n",
    "lr2 = cv.pyrDown(lr1)\n",
    "\n",
    "\n",
    "hr2 = cv.pyrUp(lr2)\n",
    "\n",
    "cv.imshow('image', img)\n",
    "cv.imshow('lr1', lr1)\n",
    "cv.imshow('lr2', lr2)\n",
    "cv.imshow('hr2', hr2)\n",
    "\n",
    "\n",
    "cv.waitKey()\n",
    "cv.destroyAllWindows()"
   ],
   "metadata": {
    "collapsed": false,
    "pycharm": {
     "is_executing": true
    }
   }
  },
  {
   "cell_type": "markdown",
   "source": [
    "### image blending using pyramids"
   ],
   "metadata": {
    "collapsed": false
   }
  },
  {
   "cell_type": "code",
   "execution_count": 7,
   "outputs": [
    {
     "name": "stdout",
     "output_type": "stream",
     "text": [
      "(400, 400, 3)\n",
      "(400, 400, 3)\n"
     ]
    }
   ],
   "source": [
    "apple = cv.resize(cv.imread('apple.png'), (400, 400))\n",
    "orange = cv.resize(cv.imread('orange.png'), (400, 400))\n",
    "\n",
    "print(apple.shape)\n",
    "print(orange.shape)"
   ],
   "metadata": {
    "collapsed": false
   }
  },
  {
   "cell_type": "code",
   "execution_count": 8,
   "outputs": [],
   "source": [
    "# generate gaussian pyramid for apple\n",
    "apple_copy = apple.copy()\n",
    "gp_apple = [apple_copy]\n",
    "for _ in range(6):\n",
    "    apple_copy = cv.pyrDown(apple_copy)\n",
    "    gp_apple.append(apple_copy)"
   ],
   "metadata": {
    "collapsed": false
   }
  },
  {
   "cell_type": "code",
   "execution_count": 9,
   "outputs": [],
   "source": [
    "# generate gaussian pyramid for orange\n",
    "orange_copy = orange.copy()\n",
    "gp_orange = [orange_copy]\n",
    "for _ in range(6):\n",
    "    orange_copy = cv.pyrDown(orange_copy)\n",
    "    gp_apple.append(orange_copy)"
   ],
   "metadata": {
    "collapsed": false
   }
  },
  {
   "cell_type": "code",
   "execution_count": null,
   "outputs": [],
   "source": [
    "# generate laplacian pyramid for apple\n",
    "apple_copy = gp_apple[5]\n",
    "lp_apple = [apple_copy]\n",
    "for i in range(5, 0, -1):\n",
    "    gaussian_expanded = cv.pyrUp(gp_apple[i])\n",
    "    print(gp_apple[i-1].shape, gaussian_expanded.shape)\n",
    "\n",
    "    laplacian = cv.subtract(gp_apple[i-1], gaussian_expanded)\n",
    "    lp_apple.append(laplacian)"
   ],
   "metadata": {
    "collapsed": false,
    "pycharm": {
     "is_executing": true
    }
   }
  },
  {
   "cell_type": "code",
   "execution_count": null,
   "outputs": [],
   "source": [],
   "metadata": {
    "collapsed": false
   }
  }
 ],
 "metadata": {
  "kernelspec": {
   "display_name": "Python 3",
   "language": "python",
   "name": "python3"
  },
  "language_info": {
   "codemirror_mode": {
    "name": "ipython",
    "version": 2
   },
   "file_extension": ".py",
   "mimetype": "text/x-python",
   "name": "python",
   "nbconvert_exporter": "python",
   "pygments_lexer": "ipython2",
   "version": "2.7.6"
  }
 },
 "nbformat": 4,
 "nbformat_minor": 0
}
