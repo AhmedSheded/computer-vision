{
 "cells": [
  {
   "cell_type": "markdown",
   "source": [
    "#### are used to remove the noise from the images  and it use diverse linear filter because linear filter easy to achive and relatively fast"
   ],
   "metadata": {
    "collapsed": false
   }
  },
  {
   "cell_type": "code",
   "execution_count": 1,
   "outputs": [],
   "source": [
    "import cv2 as cv\n",
    "import numpy as np\n",
    "import matplotlib.pyplot as plt\n",
    "import os\n",
    "os.chdir('../data')"
   ],
   "metadata": {
    "collapsed": false
   }
  },
  {
   "cell_type": "code",
   "execution_count": null,
   "outputs": [],
   "source": [
    "img = cv.imread('BAJIp.png')\n",
    "\n",
    "averaging = cv.blur(img, (5, 5)) # mean for pixels\n",
    "# gblur = cv.GaussianBlur(img, (5, 5), 0)\n",
    "# median = cv.medianBlur(img, 11) # for salt and paper images\n",
    "bilateralFilter = cv.bilateralFilter(img, 9, 75, 75)\n",
    "\n",
    "cv.imshow('img', img)\n",
    "cv.imshow('bilater', bilateralFilter)\n",
    "cv.waitKey()\n",
    "cv.destroyAllWindows()"
   ],
   "metadata": {
    "collapsed": false,
    "pycharm": {
     "is_executing": true
    }
   }
  },
  {
   "cell_type": "code",
   "execution_count": 2,
   "outputs": [],
   "source": [],
   "metadata": {
    "collapsed": false
   }
  }
 ],
 "metadata": {
  "kernelspec": {
   "display_name": "Python 3",
   "language": "python",
   "name": "python3"
  },
  "language_info": {
   "codemirror_mode": {
    "name": "ipython",
    "version": 2
   },
   "file_extension": ".py",
   "mimetype": "text/x-python",
   "name": "python",
   "nbconvert_exporter": "python",
   "pygments_lexer": "ipython2",
   "version": "2.7.6"
  }
 },
 "nbformat": 4,
 "nbformat_minor": 0
}
