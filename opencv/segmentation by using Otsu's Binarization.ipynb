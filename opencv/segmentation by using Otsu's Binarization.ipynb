{
 "cells": [
  {
   "cell_type": "code",
   "execution_count": 21,
   "metadata": {
    "collapsed": true
   },
   "outputs": [],
   "source": [
    "import cv2 as cv\n",
    "import numpy as np\n",
    "import os\n",
    "os.chdir('../data')"
   ]
  },
  {
   "cell_type": "code",
   "execution_count": 22,
   "outputs": [],
   "source": [
    "img = cv.imread('grey.png', 0)\n",
    "\n",
    "#global threshold\n",
    "ret1, thresh1 = cv.threshold(img, 127, 255, cv.THRESH_BINARY)\n",
    "\n",
    "# Otsu's threshold\n",
    "ret2, thresh2 = cv.threshold(img, 0, 255, cv.THRESH_BINARY+cv.THRESH_OTSU)\n",
    "\n",
    "# Otsu's with gaussianblur\n",
    "blur = cv.GaussianBlur(img, (7, 7), 0)\n",
    "dilate = cv.dilate(blur, np.ones((5, 5), np.uint8), iterations=4)\n",
    "ret3, thresh3 = cv.threshold(dilate, 0, 255, cv.THRESH_BINARY+cv.THRESH_OTSU)"
   ],
   "metadata": {
    "collapsed": false
   }
  },
  {
   "cell_type": "code",
   "execution_count": null,
   "outputs": [],
   "source": [
    "cv.imshow('blur', thresh3)\n",
    "cv.imshow('thresh2', thresh2)\n",
    "cv.waitKey()\n",
    "cv.destroyAllWindows()"
   ],
   "metadata": {
    "collapsed": false,
    "pycharm": {
     "is_executing": true
    }
   }
  },
  {
   "cell_type": "code",
   "execution_count": null,
   "outputs": [],
   "source": [],
   "metadata": {
    "collapsed": false
   }
  }
 ],
 "metadata": {
  "kernelspec": {
   "display_name": "Python 3",
   "language": "python",
   "name": "python3"
  },
  "language_info": {
   "codemirror_mode": {
    "name": "ipython",
    "version": 2
   },
   "file_extension": ".py",
   "mimetype": "text/x-python",
   "name": "python",
   "nbconvert_exporter": "python",
   "pygments_lexer": "ipython2",
   "version": "2.7.6"
  }
 },
 "nbformat": 4,
 "nbformat_minor": 0
}
