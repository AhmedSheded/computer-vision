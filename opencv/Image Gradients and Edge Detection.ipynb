{
 "cells": [
  {
   "cell_type": "markdown",
   "source": [
    "source https://docs.opencv.org/3.4/d5/db5/tutorial_laplace_operator.html"
   ],
   "metadata": {
    "collapsed": false
   }
  },
  {
   "cell_type": "code",
   "execution_count": 1,
   "metadata": {
    "collapsed": true
   },
   "outputs": [],
   "source": [
    "import cv2 as cv\n",
    "import numpy as np\n",
    "import matplotlib.pyplot as plt\n",
    "import os\n",
    "os.chdir('../data')"
   ]
  },
  {
   "cell_type": "markdown",
   "source": [
    "#### Laplacian"
   ],
   "metadata": {
    "collapsed": false
   }
  },
  {
   "cell_type": "code",
   "execution_count": null,
   "outputs": [],
   "source": [
    "img = cv.imread('me/5.jpg', 0)\n",
    "\n",
    "lap = cv.Laplacian(img, cv.CV_64F, ksize=3)\n",
    "lap = np.uint8(np.absolute(lap))\n",
    "\n",
    "cv.imshow('messi', img)\n",
    "cv.imshow('filter', lap)\n",
    "cv.waitKey()\n",
    "cv.destroyAllWindows()"
   ],
   "metadata": {
    "collapsed": false,
    "pycharm": {
     "is_executing": true
    }
   }
  },
  {
   "cell_type": "markdown",
   "source": [
    "#### sobel x and sobel y"
   ],
   "metadata": {
    "collapsed": false
   }
  },
  {
   "cell_type": "code",
   "execution_count": null,
   "outputs": [],
   "source": [
    "img = cv.imread('messi.jpg')\n",
    "\n",
    "sobel_x = cv.Sobel(img, cv.CV_64F, dx=1, dy=0)\n",
    "sobel_y = cv.Sobel(img, cv.CV_64F, dx=0, dy=1)\n",
    "\n",
    "sobel_x = np.uint8(np.absolute(sobel_x))\n",
    "sobel_y = np.uint8(np.absolute(sobel_y))\n",
    "\n",
    "combine_sobel_x_and_y = cv.bitwise_or(sobel_x, sobel_y)\n",
    "\n",
    "cv.imshow('sobel_x', sobel_x)\n",
    "cv.imshow('sobel_y', sobel_y)\n",
    "cv.imshow('combination', combine_sobel_x_and_y)\n",
    "\n",
    "cv.waitKey()\n",
    "cv.destroyAllWindows()\n"
   ],
   "metadata": {
    "collapsed": false,
    "pycharm": {
     "is_executing": true
    }
   }
  },
  {
   "cell_type": "code",
   "execution_count": null,
   "outputs": [],
   "source": [],
   "metadata": {
    "collapsed": false
   }
  }
 ],
 "metadata": {
  "kernelspec": {
   "display_name": "Python 3",
   "language": "python",
   "name": "python3"
  },
  "language_info": {
   "codemirror_mode": {
    "name": "ipython",
    "version": 2
   },
   "file_extension": ".py",
   "mimetype": "text/x-python",
   "name": "python",
   "nbconvert_exporter": "python",
   "pygments_lexer": "ipython2",
   "version": "2.7.6"
  }
 },
 "nbformat": 4,
 "nbformat_minor": 0
}
