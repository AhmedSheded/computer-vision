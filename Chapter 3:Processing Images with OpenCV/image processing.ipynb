{
 "cells": [
  {
   "cell_type": "markdown",
   "source": [
    "Converting images between different color models\n",
    "Understanding the importance of frequencies and the Fourier transform in image\n",
    "processing\n",
    "Applying high-pass filters (HPFs), low-pass filters (LPFs), edge detection filters,\n",
    "and custom convolution filters\n",
    "Detecting and analyzing contours, lines, circles, and other geometric shapes\n",
    "Writing classes and functions that encapsulate the implementation of a filter"
   ],
   "metadata": {
    "collapsed": false,
    "pycharm": {
     "name": "#%% md\n"
    }
   }
  },
  {
   "cell_type": "code",
   "execution_count": null,
   "outputs": [],
   "source": [],
   "metadata": {
    "collapsed": false,
    "pycharm": {
     "name": "#%%\n"
    }
   }
  }
 ],
 "metadata": {
  "kernelspec": {
   "display_name": "Python 3",
   "language": "python",
   "name": "python3"
  },
  "language_info": {
   "codemirror_mode": {
    "name": "ipython",
    "version": 2
   },
   "file_extension": ".py",
   "mimetype": "text/x-python",
   "name": "python",
   "nbconvert_exporter": "python",
   "pygments_lexer": "ipython2",
   "version": "2.7.6"
  }
 },
 "nbformat": 4,
 "nbformat_minor": 0
}