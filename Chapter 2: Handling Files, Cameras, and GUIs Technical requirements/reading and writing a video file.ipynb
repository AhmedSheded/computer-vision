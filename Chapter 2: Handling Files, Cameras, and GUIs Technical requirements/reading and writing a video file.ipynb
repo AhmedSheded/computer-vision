{
 "cells": [
  {
   "cell_type": "markdown",
   "source": [
    "# OpenCV provides the VideoCapture and VideoWriter classes\n",
    "\n",
    "Let's look at an example that reads\n",
    "frames from one AVI file and writes them to another with a YUV encoding:"
   ],
   "metadata": {
    "collapsed": false,
    "pycharm": {
     "name": "#%% md\n"
    }
   }
  },
  {
   "cell_type": "code",
   "execution_count": 2,
   "outputs": [],
   "source": [
    "import cv2"
   ],
   "metadata": {
    "collapsed": false,
    "pycharm": {
     "name": "#%%\n"
    }
   }
  },
  {
   "cell_type": "code",
   "execution_count": 12,
   "outputs": [],
   "source": [
    "videoCapture = cv2.VideoCapture('../data/video.avi')\n",
    "\n",
    "fps = videoCapture.get(cv2.CAP_PROP_FPS)\n",
    "size = (int(videoCapture.get(cv2.CAP_PROP_FRAME_WIDTH)), int(cv2.CAP_PROP_FRAME_HEIGHT))\n",
    "\n",
    "videoWriter = cv2.VideoWriter(\n",
    "    '../data/output.avi', cv2.VideoWriter_fourcc('I','4','2','0'), fps, size\n",
    ")\n",
    "\n",
    "success, frame = videoCapture.read()\n",
    "\n",
    "while success: # loop until there are no more frames\n",
    "    videoWriter.write(frame)\n",
    "    success, frame = videoCapture.read()"
   ],
   "metadata": {
    "collapsed": false,
    "pycharm": {
     "name": "#%%\n"
    }
   }
  },
  {
   "cell_type": "markdown",
   "source": [
    "## Capturing camera frames"
   ],
   "metadata": {
    "collapsed": false,
    "pycharm": {
     "name": "#%% md\n"
    }
   }
  },
  {
   "cell_type": "code",
   "execution_count": 36,
   "outputs": [
    {
     "name": "stderr",
     "output_type": "stream",
     "text": [
      "[ WARN:0@3863.971] global /io/opencv/modules/videoio/src/cap_v4l.cpp (902) open VIDEOIO(V4L2:/dev/video0): can't open camera by index\n"
     ]
    }
   ],
   "source": [
    "cameraCapture = cv2.VideoCapture(0)\n",
    "if cameraCapture.isOpened():\n",
    "    fps = 30\n",
    "    size = (int(cameraCapture.get(cv2.CAP_PROP_FRAME_WIDTH)), int(cameraCapture.get(cv2.CAP_PROP_FRAME_HEIGHT)))\n",
    "\n",
    "    videoWriter = cv2.VideoWriter(\n",
    "        'cameraOutput.avi', cv2.VideoWriter_fourcc('I', '4', '2', '0'), fps, size\n",
    "    )\n",
    "\n",
    "    success, frame = cameraCapture.read()\n",
    "    numFramesRemaining = 10 * fps - 1\n",
    "    while success and numFramesRemaining > 0:\n",
    "        videoWriter.write(frame)\n",
    "        success, frame = cameraCapture.read()\n",
    "        numFramesRemaining -=1"
   ],
   "metadata": {
    "collapsed": false,
    "pycharm": {
     "name": "#%%\n"
    }
   }
  },
  {
   "cell_type": "code",
   "execution_count": 37,
   "outputs": [
    {
     "data": {
      "text/plain": "False"
     },
     "execution_count": 37,
     "metadata": {},
     "output_type": "execute_result"
    }
   ],
   "source": [
    "cameraCapture.isOpened()"
   ],
   "metadata": {
    "collapsed": false,
    "pycharm": {
     "name": "#%%\n"
    }
   }
  },
  {
   "cell_type": "code",
   "execution_count": null,
   "outputs": [],
   "source": [
    "# The read method is inappropriate when we need to synchronize either a set of cameras or a\n",
    "# multihead camera such as a stereo camera. Then, we use the grab and retrieve methods\n",
    "# instead. For a set of two cameras, we can use code similar to the following:\n",
    "\n",
    "success0 = cameraCapture0.grab()\n",
    "success1 = cameraCapture1.grab()\n",
    "if success0 and success1:\n",
    "    frame0 = cameraCapture0.retrieve()\n",
    "frame1 = cameraCapture1.retrieve()"
   ],
   "metadata": {
    "collapsed": false,
    "pycharm": {
     "name": "#%%\n"
    }
   }
  }
 ],
 "metadata": {
  "kernelspec": {
   "display_name": "Python 3",
   "language": "python",
   "name": "python3"
  },
  "language_info": {
   "codemirror_mode": {
    "name": "ipython",
    "version": 2
   },
   "file_extension": ".py",
   "mimetype": "text/x-python",
   "name": "python",
   "nbconvert_exporter": "python",
   "pygments_lexer": "ipython2",
   "version": "2.7.6"
  }
 },
 "nbformat": 4,
 "nbformat_minor": 0
}